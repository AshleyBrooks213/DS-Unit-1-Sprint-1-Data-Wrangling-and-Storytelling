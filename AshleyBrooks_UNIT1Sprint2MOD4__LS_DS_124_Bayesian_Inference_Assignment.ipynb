{
  "nbformat": 4,
  "nbformat_minor": 0,
  "metadata": {
    "colab": {
      "name": "AshleyBrooks_UNIT1Sprint2MOD4_ LS_DS_124_Bayesian_Inference_Assignment.ipynb",
      "provenance": [],
      "collapsed_sections": [],
      "include_colab_link": true
    },
    "kernelspec": {
      "name": "python3",
      "display_name": "Python 3"
    }
  },
  "cells": [
    {
      "cell_type": "markdown",
      "metadata": {
        "id": "view-in-github",
        "colab_type": "text"
      },
      "source": [
        "<a href=\"https://colab.research.google.com/github/AshleyBrooks213/DS-Unit-1-Sprint-1-Data-Wrangling-and-Storytelling/blob/master/AshleyBrooks_UNIT1Sprint2MOD4__LS_DS_124_Bayesian_Inference_Assignment.ipynb\" target=\"_parent\"><img src=\"https://colab.research.google.com/assets/colab-badge.svg\" alt=\"Open In Colab\"/></a>"
      ]
    },
    {
      "cell_type": "markdown",
      "metadata": {
        "id": "H7OLbevlbd_Z"
      },
      "source": [
        "# Lambda School Data Science Module 124\n",
        "\n",
        "## Introduction to Bayesian Inference\n",
        "\n",
        "\n"
      ]
    },
    {
      "cell_type": "markdown",
      "metadata": {
        "id": "iliKwAvIKbyD"
      },
      "source": [
        "### 1) In your own words, summarize the difference between Bayesian and Frequentist statistics."
      ]
    },
    {
      "cell_type": "markdown",
      "metadata": {
        "id": "VHo7IAIFMNRT"
      },
      "source": [
        "\n",
        "Frequentists believe that the population number is out there somewhere, but unknown. But, there is a number that exists. \n",
        "\n",
        "Bayesian statistics believes that it's impossible to have a set number because it is always changing. But, we can look at what we know about our group and go from there. "
      ]
    },
    {
      "cell_type": "markdown",
      "metadata": {
        "id": "db4m0HhBCMhR"
      },
      "source": [
        "###For questions 2) - 8) use the following information:\n",
        "\n",
        "Let A be the event of surviving the sinking of the Titanic and B be the event of being a 1st class passenger."
      ]
    },
    {
      "cell_type": "code",
      "metadata": {
        "id": "qXaf5leo7CHr",
        "outputId": "62a5e228-17cc-4405-b524-e9f9a8b181c2",
        "colab": {
          "base_uri": "https://localhost:8080/",
          "height": 212
        }
      },
      "source": [
        "import pandas as pd\n",
        "import numpy as np\n",
        "\n",
        "\n",
        "data_url = 'https://raw.githubusercontent.com/Chelsea-Myers/Lambda-Intro/master/Titanic.csv'\n",
        "\n",
        "df = pd.read_csv(data_url, skipinitialspace=True, header=0)\n",
        "\n",
        "print(df.shape)\n",
        "df.head()"
      ],
      "execution_count": 1,
      "outputs": [
        {
          "output_type": "stream",
          "text": [
            "(887, 8)\n"
          ],
          "name": "stdout"
        },
        {
          "output_type": "execute_result",
          "data": {
            "text/html": [
              "<div>\n",
              "<style scoped>\n",
              "    .dataframe tbody tr th:only-of-type {\n",
              "        vertical-align: middle;\n",
              "    }\n",
              "\n",
              "    .dataframe tbody tr th {\n",
              "        vertical-align: top;\n",
              "    }\n",
              "\n",
              "    .dataframe thead th {\n",
              "        text-align: right;\n",
              "    }\n",
              "</style>\n",
              "<table border=\"1\" class=\"dataframe\">\n",
              "  <thead>\n",
              "    <tr style=\"text-align: right;\">\n",
              "      <th></th>\n",
              "      <th>Survived</th>\n",
              "      <th>Pclass</th>\n",
              "      <th>Name</th>\n",
              "      <th>Sex</th>\n",
              "      <th>Age</th>\n",
              "      <th>Siblings/Spouses_Aboard</th>\n",
              "      <th>Parents/Children_Aboard</th>\n",
              "      <th>Fare</th>\n",
              "    </tr>\n",
              "  </thead>\n",
              "  <tbody>\n",
              "    <tr>\n",
              "      <th>0</th>\n",
              "      <td>0</td>\n",
              "      <td>3</td>\n",
              "      <td>Mr. Owen Harris Braund</td>\n",
              "      <td>male</td>\n",
              "      <td>22.0</td>\n",
              "      <td>1</td>\n",
              "      <td>0</td>\n",
              "      <td>7.2500</td>\n",
              "    </tr>\n",
              "    <tr>\n",
              "      <th>1</th>\n",
              "      <td>1</td>\n",
              "      <td>1</td>\n",
              "      <td>Mrs. John Bradley (Florence Briggs Thayer) Cum...</td>\n",
              "      <td>female</td>\n",
              "      <td>38.0</td>\n",
              "      <td>1</td>\n",
              "      <td>0</td>\n",
              "      <td>71.2833</td>\n",
              "    </tr>\n",
              "    <tr>\n",
              "      <th>2</th>\n",
              "      <td>1</td>\n",
              "      <td>3</td>\n",
              "      <td>Miss. Laina Heikkinen</td>\n",
              "      <td>female</td>\n",
              "      <td>26.0</td>\n",
              "      <td>0</td>\n",
              "      <td>0</td>\n",
              "      <td>7.9250</td>\n",
              "    </tr>\n",
              "    <tr>\n",
              "      <th>3</th>\n",
              "      <td>1</td>\n",
              "      <td>1</td>\n",
              "      <td>Mrs. Jacques Heath (Lily May Peel) Futrelle</td>\n",
              "      <td>female</td>\n",
              "      <td>35.0</td>\n",
              "      <td>1</td>\n",
              "      <td>0</td>\n",
              "      <td>53.1000</td>\n",
              "    </tr>\n",
              "    <tr>\n",
              "      <th>4</th>\n",
              "      <td>0</td>\n",
              "      <td>3</td>\n",
              "      <td>Mr. William Henry Allen</td>\n",
              "      <td>male</td>\n",
              "      <td>35.0</td>\n",
              "      <td>0</td>\n",
              "      <td>0</td>\n",
              "      <td>8.0500</td>\n",
              "    </tr>\n",
              "  </tbody>\n",
              "</table>\n",
              "</div>"
            ],
            "text/plain": [
              "   Survived  Pclass  ... Parents/Children_Aboard     Fare\n",
              "0         0       3  ...                       0   7.2500\n",
              "1         1       1  ...                       0  71.2833\n",
              "2         1       3  ...                       0   7.9250\n",
              "3         1       1  ...                       0  53.1000\n",
              "4         0       3  ...                       0   8.0500\n",
              "\n",
              "[5 rows x 8 columns]"
            ]
          },
          "metadata": {
            "tags": []
          },
          "execution_count": 1
        }
      ]
    },
    {
      "cell_type": "markdown",
      "metadata": {
        "id": "4shP8MH8CbrZ"
      },
      "source": [
        "2) Calculate P(A) = P(Surving)"
      ]
    },
    {
      "cell_type": "code",
      "metadata": {
        "id": "iDi0eFr1x-v_",
        "outputId": "bae27014-8e67-46f9-97cc-3adbda71ff87",
        "colab": {
          "base_uri": "https://localhost:8080/",
          "height": 34
        }
      },
      "source": [
        "### YOUR CODE HERE\n",
        "\n",
        "pd.crosstab(df['Sex'],df['Survived'],  margins=True)\n",
        "\n",
        "P_A= 342/887\n",
        "P_A"
      ],
      "execution_count": 7,
      "outputs": [
        {
          "output_type": "execute_result",
          "data": {
            "text/plain": [
              "0.3855693348365276"
            ]
          },
          "metadata": {
            "tags": []
          },
          "execution_count": 7
        }
      ]
    },
    {
      "cell_type": "markdown",
      "metadata": {
        "id": "ZV_UsohfC6r_"
      },
      "source": [
        "3) Calculate P(B) = P(Being a 1st class passenger)/"
      ]
    },
    {
      "cell_type": "code",
      "metadata": {
        "id": "wcBGNBoQL6iS",
        "outputId": "6a650069-c595-41a2-c528-0e3064285973",
        "colab": {
          "base_uri": "https://localhost:8080/",
          "height": 166
        }
      },
      "source": [
        "### YOUR CODE HERE\n",
        "\n",
        "pd.crosstab(df['Sex'],df['Pclass'], margins=True)\n",
        "\n",
        "P_B = 216/887\n",
        "#P_B"
      ],
      "execution_count": 10,
      "outputs": [
        {
          "output_type": "execute_result",
          "data": {
            "text/html": [
              "<div>\n",
              "<style scoped>\n",
              "    .dataframe tbody tr th:only-of-type {\n",
              "        vertical-align: middle;\n",
              "    }\n",
              "\n",
              "    .dataframe tbody tr th {\n",
              "        vertical-align: top;\n",
              "    }\n",
              "\n",
              "    .dataframe thead th {\n",
              "        text-align: right;\n",
              "    }\n",
              "</style>\n",
              "<table border=\"1\" class=\"dataframe\">\n",
              "  <thead>\n",
              "    <tr style=\"text-align: right;\">\n",
              "      <th>Pclass</th>\n",
              "      <th>1</th>\n",
              "      <th>2</th>\n",
              "      <th>3</th>\n",
              "      <th>All</th>\n",
              "    </tr>\n",
              "    <tr>\n",
              "      <th>Sex</th>\n",
              "      <th></th>\n",
              "      <th></th>\n",
              "      <th></th>\n",
              "      <th></th>\n",
              "    </tr>\n",
              "  </thead>\n",
              "  <tbody>\n",
              "    <tr>\n",
              "      <th>female</th>\n",
              "      <td>94</td>\n",
              "      <td>76</td>\n",
              "      <td>144</td>\n",
              "      <td>314</td>\n",
              "    </tr>\n",
              "    <tr>\n",
              "      <th>male</th>\n",
              "      <td>122</td>\n",
              "      <td>108</td>\n",
              "      <td>343</td>\n",
              "      <td>573</td>\n",
              "    </tr>\n",
              "    <tr>\n",
              "      <th>All</th>\n",
              "      <td>216</td>\n",
              "      <td>184</td>\n",
              "      <td>487</td>\n",
              "      <td>887</td>\n",
              "    </tr>\n",
              "  </tbody>\n",
              "</table>\n",
              "</div>"
            ],
            "text/plain": [
              "Pclass    1    2    3  All\n",
              "Sex                       \n",
              "female   94   76  144  314\n",
              "male    122  108  343  573\n",
              "All     216  184  487  887"
            ]
          },
          "metadata": {
            "tags": []
          },
          "execution_count": 10
        }
      ]
    },
    {
      "cell_type": "markdown",
      "metadata": {
        "id": "3tJKQmH-Cm6u"
      },
      "source": [
        "4) Calculate P(A $\\cap$ B) = P(Being a 1st class passenger and surviving)"
      ]
    },
    {
      "cell_type": "code",
      "metadata": {
        "id": "9Nr8LWPyL7P6",
        "outputId": "b68e8918-2cf8-4d10-dde6-15ea92a0801e",
        "colab": {
          "base_uri": "https://localhost:8080/",
          "height": 195
        }
      },
      "source": [
        "### YOUR CODE HERE\n",
        "\n",
        "pd.crosstab(df['Pclass'],df['Survived'], margins=True)\n",
        "\n"
      ],
      "execution_count": 13,
      "outputs": [
        {
          "output_type": "execute_result",
          "data": {
            "text/html": [
              "<div>\n",
              "<style scoped>\n",
              "    .dataframe tbody tr th:only-of-type {\n",
              "        vertical-align: middle;\n",
              "    }\n",
              "\n",
              "    .dataframe tbody tr th {\n",
              "        vertical-align: top;\n",
              "    }\n",
              "\n",
              "    .dataframe thead th {\n",
              "        text-align: right;\n",
              "    }\n",
              "</style>\n",
              "<table border=\"1\" class=\"dataframe\">\n",
              "  <thead>\n",
              "    <tr style=\"text-align: right;\">\n",
              "      <th>Survived</th>\n",
              "      <th>0</th>\n",
              "      <th>1</th>\n",
              "      <th>All</th>\n",
              "    </tr>\n",
              "    <tr>\n",
              "      <th>Pclass</th>\n",
              "      <th></th>\n",
              "      <th></th>\n",
              "      <th></th>\n",
              "    </tr>\n",
              "  </thead>\n",
              "  <tbody>\n",
              "    <tr>\n",
              "      <th>1</th>\n",
              "      <td>80</td>\n",
              "      <td>136</td>\n",
              "      <td>216</td>\n",
              "    </tr>\n",
              "    <tr>\n",
              "      <th>2</th>\n",
              "      <td>97</td>\n",
              "      <td>87</td>\n",
              "      <td>184</td>\n",
              "    </tr>\n",
              "    <tr>\n",
              "      <th>3</th>\n",
              "      <td>368</td>\n",
              "      <td>119</td>\n",
              "      <td>487</td>\n",
              "    </tr>\n",
              "    <tr>\n",
              "      <th>All</th>\n",
              "      <td>545</td>\n",
              "      <td>342</td>\n",
              "      <td>887</td>\n",
              "    </tr>\n",
              "  </tbody>\n",
              "</table>\n",
              "</div>"
            ],
            "text/plain": [
              "Survived    0    1  All\n",
              "Pclass                 \n",
              "1          80  136  216\n",
              "2          97   87  184\n",
              "3         368  119  487\n",
              "All       545  342  887"
            ]
          },
          "metadata": {
            "tags": []
          },
          "execution_count": 13
        }
      ]
    },
    {
      "cell_type": "code",
      "metadata": {
        "id": "DzRUgsfqleEd",
        "outputId": "ef5c929b-55d8-44a8-ed1b-28f610e83df5",
        "colab": {
          "base_uri": "https://localhost:8080/",
          "height": 34
        }
      },
      "source": [
        "P_A_and_B = 136/887\n",
        "P_A_and_B"
      ],
      "execution_count": 25,
      "outputs": [
        {
          "output_type": "execute_result",
          "data": {
            "text/plain": [
              "0.15332581736189402"
            ]
          },
          "metadata": {
            "tags": []
          },
          "execution_count": 25
        }
      ]
    },
    {
      "cell_type": "markdown",
      "metadata": {
        "id": "VzHakDD6DOcL"
      },
      "source": [
        "5) Calculate P(A|B) = P(Surviving given that the person was a 1st class passenger)"
      ]
    },
    {
      "cell_type": "code",
      "metadata": {
        "id": "TxrNmmzZL7zw",
        "outputId": "68842243-8536-423c-f4a9-ea5cae24e9a4",
        "colab": {
          "base_uri": "https://localhost:8080/",
          "height": 34
        }
      },
      "source": [
        "### YOUR CODE HERE\n",
        "\n",
        "P_A_given_B = P_A_and_B/P_B\n",
        "print(P_A_given_B)"
      ],
      "execution_count": 17,
      "outputs": [
        {
          "output_type": "stream",
          "text": [
            "0.6296296296296297\n"
          ],
          "name": "stdout"
        }
      ]
    },
    {
      "cell_type": "markdown",
      "metadata": {
        "id": "XLHGkgqIDZvi"
      },
      "source": [
        "6) Calculate (B|A) = P(Being a first class passenger given the person survived)"
      ]
    },
    {
      "cell_type": "code",
      "metadata": {
        "id": "9_8-BEipL8U5",
        "outputId": "7185de57-e148-4216-a0d3-fdd5aed7d716",
        "colab": {
          "base_uri": "https://localhost:8080/",
          "height": 34
        }
      },
      "source": [
        "### YOUR CODE HERE\n",
        "P_B_given_A = P_A_and_B*P_A\n",
        "P_B_given_A"
      ],
      "execution_count": 26,
      "outputs": [
        {
          "output_type": "execute_result",
          "data": {
            "text/plain": [
              "0.05911773341349239"
            ]
          },
          "metadata": {
            "tags": []
          },
          "execution_count": 26
        }
      ]
    },
    {
      "cell_type": "markdown",
      "metadata": {
        "id": "lxYJhvp1DkLS"
      },
      "source": [
        "7) Show that \n",
        "\n",
        "$$P(A|B) = \\frac{P(A \\cap B)}{P(B)}$$\n",
        "\n",
        "with the numbers you calculate above."
      ]
    },
    {
      "cell_type": "code",
      "metadata": {
        "id": "P0k0E5OKL9C-",
        "outputId": "f59e7d52-287c-4872-e4e0-0ba6461d1549",
        "colab": {
          "base_uri": "https://localhost:8080/",
          "height": 34
        }
      },
      "source": [
        "### YOUR CODE HERE\n",
        "\n",
        "P_A_given_B = P_A_and_B/P_B \n",
        "\n",
        "P_A_given_B"
      ],
      "execution_count": 27,
      "outputs": [
        {
          "output_type": "execute_result",
          "data": {
            "text/plain": [
              "0.6296296296296297"
            ]
          },
          "metadata": {
            "tags": []
          },
          "execution_count": 27
        }
      ]
    },
    {
      "cell_type": "markdown",
      "metadata": {
        "id": "M2pRVt7ADsFk"
      },
      "source": [
        "8) Show that \n",
        "\n",
        "$$P(A|B) = \\frac{P(B|A)P(A)}{P(B)}$$\n",
        "\n",
        "with the numbers you calculated above."
      ]
    },
    {
      "cell_type": "code",
      "metadata": {
        "id": "w_sbMMAUL9qH",
        "outputId": "017895b8-52f7-4475-f889-0af4330fe8c1",
        "colab": {
          "base_uri": "https://localhost:8080/",
          "height": 34
        }
      },
      "source": [
        "### YOUR CODE HERE\n",
        "P_A_given_B = (P_B_given_A*P_A)/P_B_given_A\n",
        "P_A_given_B"
      ],
      "execution_count": 28,
      "outputs": [
        {
          "output_type": "execute_result",
          "data": {
            "text/plain": [
              "0.3855693348365276"
            ]
          },
          "metadata": {
            "tags": []
          },
          "execution_count": 28
        }
      ]
    },
    {
      "cell_type": "markdown",
      "metadata": {
        "id": "SB1m04Zf16Lo"
      },
      "source": [
        "###Use the following information to answer questions 9) - 11) \n",
        "\n",
        "Assume that the passengers on the Titanic are representative of all individuals traveling from Western Europe to the United States in the early 20th century.\n",
        "\n",
        "Let's use the Titanic data sample to estimate the mean fare paid by all individuals traveling from Western Euorpe to the United States during that time."
      ]
    },
    {
      "cell_type": "markdown",
      "metadata": {
        "id": "nXveL-y7HOtr"
      },
      "source": [
        "9) Use a 95% frequentist CI to estimate the mean fare paid by individuals traveling from Western Europe to the US in the early 20th century.\n",
        "\n",
        "Interpret your confidence interval."
      ]
    },
    {
      "cell_type": "code",
      "metadata": {
        "id": "HkUjRwhoL_h1",
        "outputId": "ffab19cc-90dd-4714-8020-35991463e35d",
        "colab": {
          "base_uri": "https://localhost:8080/",
          "height": 34
        }
      },
      "source": [
        "### YOUR CODE HERE\n",
        "\n",
        "from scipy.stats import t\n",
        "\n",
        "mean_fare = df['Fare'].mean()\n",
        "sd_fare = df['Fare'].std()\n",
        "n_fare = df['Fare'].count()\n",
        "se_fare = sd_fare/(n_fare**(1/2))\n",
        "\n",
        "t.interval(alpha = 0.95, df = n_fare-1, loc = mean_fare, scale = se_fare)"
      ],
      "execution_count": 30,
      "outputs": [
        {
          "output_type": "execute_result",
          "data": {
            "text/plain": [
              "(29.02482490325031, 35.586015457516254)"
            ]
          },
          "metadata": {
            "tags": []
          },
          "execution_count": 30
        }
      ]
    },
    {
      "cell_type": "markdown",
      "metadata": {
        "id": "7eSar_NSIUvl"
      },
      "source": [
        "Your answer here.\n",
        "We are 95% confident that the  mean fare paid by individual traveling from Western Europe to the US in the early 20th century was between 29.02 and 36."
      ]
    },
    {
      "cell_type": "markdown",
      "metadata": {
        "id": "m8u70PjlHY-0"
      },
      "source": [
        "10) Use a 95% Bayesian CI to determine the distribution of the fare paid by individuals traveling from Western Europe to the US in the early 20th century.  Interpret your results"
      ]
    },
    {
      "cell_type": "code",
      "metadata": {
        "id": "1NNyQKOxMHJa",
        "outputId": "10207938-5c47-44d6-a045-c1851b4e7e04",
        "colab": {
          "base_uri": "https://localhost:8080/",
          "height": 67
        }
      },
      "source": [
        "### YOUR CODE HERE\n",
        "\n",
        "from scipy import stats\n",
        "stats.bayes_mvs(df['Fare'], alpha=0.95)"
      ],
      "execution_count": 31,
      "outputs": [
        {
          "output_type": "execute_result",
          "data": {
            "text/plain": [
              "(Mean(statistic=32.30542018038331, minmax=(29.024824903250337, 35.58601545751628)),\n",
              " Variance(statistic=2483.858450355689, minmax=(2262.747559034253, 2726.2430731483255)),\n",
              " Std_dev(statistic=49.824230556814946, minmax=(47.568346187714496, 52.213437668365835)))"
            ]
          },
          "metadata": {
            "tags": []
          },
          "execution_count": 31
        }
      ]
    },
    {
      "cell_type": "markdown",
      "metadata": {
        "id": "VP4SMHH4MIgR"
      },
      "source": [
        "We are 95% confident that the true mean fare paid by all individuals traveling from Western Europe to the US in the early 20th century can be described by a statistical distribution that has a mean of 32.30 in fare and a standard deviation of 49.82 in fare."
      ]
    },
    {
      "cell_type": "markdown",
      "metadata": {
        "id": "xG31AYm1KeH7"
      },
      "source": [
        "#Portfolio Project Assignment\n",
        "\n",
        "Watch the Porfolio Project websites mini-lecture: https://www.youtube.com/watch?v=gxbNCGERUjc&feature=youtu.be&ab_channel=LambdaSchool\n",
        "\n",
        "\n",
        "Begin to set up your own Portfolio Project website."
      ]
    }
  ]
}