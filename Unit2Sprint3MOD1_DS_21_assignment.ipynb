{
  "nbformat": 4,
  "nbformat_minor": 0,
  "metadata": {
    "kernelspec": {
      "display_name": "Python 3",
      "language": "python",
      "name": "python3"
    },
    "language_info": {
      "codemirror_mode": {
        "name": "ipython",
        "version": 3
      },
      "file_extension": ".py",
      "mimetype": "text/x-python",
      "name": "python",
      "nbconvert_exporter": "python",
      "pygments_lexer": "ipython3",
      "version": "3.7.6"
    },
    "colab": {
      "name": "Unit2Sprint3MOD1_DS_21_assignment.ipynb",
      "provenance": [],
      "collapsed_sections": [],
      "include_colab_link": true
    }
  },
  "cells": [
    {
      "cell_type": "markdown",
      "metadata": {
        "id": "view-in-github",
        "colab_type": "text"
      },
      "source": [
        "<a href=\"https://colab.research.google.com/github/AshleyBrooks213/DS-Unit-1-Sprint-1-Data-Wrangling-and-Storytelling/blob/master/Unit2Sprint3MOD1_DS_21_assignment.ipynb\" target=\"_parent\"><img src=\"https://colab.research.google.com/assets/colab-badge.svg\" alt=\"Open In Colab\"/></a>"
      ]
    },
    {
      "cell_type": "markdown",
      "metadata": {
        "id": "nCc3XZEyG3XV"
      },
      "source": [
        "Lambda School Data Science\n",
        "\n",
        "*Unit 2, Sprint 3, Module 1*\n",
        "\n",
        "---\n",
        "\n",
        "\n",
        "# Define ML problems\n",
        "\n",
        "You will use your portfolio project dataset for all assignments this sprint.\n",
        "\n",
        "## Assignment\n",
        "\n",
        "Complete these tasks for your project, and document your decisions.\n",
        "\n",
        "- [ ] Choose your target. Which column in your tabular dataset will you predict?\n",
        "- [ ] Is your problem regression or classification?\n",
        "- [ ] How is your target distributed?\n",
        "    - Classification: How many classes? Are the classes imbalanced?\n",
        "    - Regression: Is the target right-skewed? If so, you may want to log transform the target.\n",
        "- [ ] Choose your evaluation metric(s).\n",
        "    - Classification: Is your majority class frequency >= 50% and < 70% ? If so, you can just use accuracy if you want. Outside that range, accuracy could be misleading. What evaluation metric will you choose, in addition to or instead of accuracy?\n",
        "    - Regression: Will you use mean absolute error, root mean squared error, R^2, or other regression metrics?\n",
        "- [ ] Choose which observations you will use to train, validate, and test your model.\n",
        "    - Are some observations outliers? Will you exclude them?\n",
        "    - Will you do a random split or a time-based split?\n",
        "- [ ] Begin to clean and explore your data.\n",
        "- [ ] Begin to choose which features, if any, to exclude. Would some features \"leak\" future information?\n",
        "\n",
        "If you haven't found a dataset yet, do that today. [Review requirements for your portfolio project](https://lambdaschool.github.io/ds/unit2) and choose your dataset.\n",
        "\n",
        "Some students worry, ***what if my model isn't “good”?*** Then, [produce a detailed tribute to your wrongness. That is science!](https://twitter.com/nathanwpyle/status/1176860147223867393)"
      ]
    },
    {
      "cell_type": "code",
      "metadata": {
        "id": "BSQ3OwikwI1i"
      },
      "source": [
        "import pandas as pd\n",
        "\n",
        "\n",
        "df = pd.read_csv('googleplaystore.csv',\n",
        "                 index_col='Last Updated')\n",
        "\n"
      ],
      "execution_count": 1,
      "outputs": []
    },
    {
      "cell_type": "code",
      "metadata": {
        "id": "wFhgU_oG5dQO"
      },
      "source": [
        "#Getting rid of the weird row with misplaced and confusing values\n",
        "df.dropna(subset=['Content Rating'], inplace=True)"
      ],
      "execution_count": 2,
      "outputs": []
    },
    {
      "cell_type": "code",
      "metadata": {
        "id": "lRgrSCXz5nC6",
        "outputId": "5709ca8b-cccb-4547-8849-768d05da864c",
        "colab": {
          "base_uri": "https://localhost:8080/"
        }
      },
      "source": [
        "df['Content Rating'].isnull().sum()"
      ],
      "execution_count": 3,
      "outputs": [
        {
          "output_type": "execute_result",
          "data": {
            "text/plain": [
              "0"
            ]
          },
          "metadata": {
            "tags": []
          },
          "execution_count": 3
        }
      ]
    },
    {
      "cell_type": "code",
      "metadata": {
        "id": "bd9jAPUn7AVG"
      },
      "source": [
        "df.index=pd.to_datetime(df.index)"
      ],
      "execution_count": 4,
      "outputs": []
    },
    {
      "cell_type": "code",
      "metadata": {
        "id": "2sxpZPPO5YX2",
        "outputId": "44d2c74b-1131-4ecb-e568-89b221779f12",
        "colab": {
          "base_uri": "https://localhost:8080/",
          "height": 342
        }
      },
      "source": [
        "print(df.shape)\n",
        "df.head()"
      ],
      "execution_count": 5,
      "outputs": [
        {
          "output_type": "stream",
          "text": [
            "(10840, 12)\n"
          ],
          "name": "stdout"
        },
        {
          "output_type": "execute_result",
          "data": {
            "text/html": [
              "<div>\n",
              "<style scoped>\n",
              "    .dataframe tbody tr th:only-of-type {\n",
              "        vertical-align: middle;\n",
              "    }\n",
              "\n",
              "    .dataframe tbody tr th {\n",
              "        vertical-align: top;\n",
              "    }\n",
              "\n",
              "    .dataframe thead th {\n",
              "        text-align: right;\n",
              "    }\n",
              "</style>\n",
              "<table border=\"1\" class=\"dataframe\">\n",
              "  <thead>\n",
              "    <tr style=\"text-align: right;\">\n",
              "      <th></th>\n",
              "      <th>App</th>\n",
              "      <th>Category</th>\n",
              "      <th>Rating</th>\n",
              "      <th>Reviews</th>\n",
              "      <th>Size</th>\n",
              "      <th>Installs</th>\n",
              "      <th>Type</th>\n",
              "      <th>Price</th>\n",
              "      <th>Content Rating</th>\n",
              "      <th>Genres</th>\n",
              "      <th>Current Ver</th>\n",
              "      <th>Android Ver</th>\n",
              "    </tr>\n",
              "    <tr>\n",
              "      <th>Last Updated</th>\n",
              "      <th></th>\n",
              "      <th></th>\n",
              "      <th></th>\n",
              "      <th></th>\n",
              "      <th></th>\n",
              "      <th></th>\n",
              "      <th></th>\n",
              "      <th></th>\n",
              "      <th></th>\n",
              "      <th></th>\n",
              "      <th></th>\n",
              "      <th></th>\n",
              "    </tr>\n",
              "  </thead>\n",
              "  <tbody>\n",
              "    <tr>\n",
              "      <th>2018-01-07</th>\n",
              "      <td>Photo Editor &amp; Candy Camera &amp; Grid &amp; ScrapBook</td>\n",
              "      <td>ART_AND_DESIGN</td>\n",
              "      <td>4.1</td>\n",
              "      <td>159</td>\n",
              "      <td>19M</td>\n",
              "      <td>10,000+</td>\n",
              "      <td>Free</td>\n",
              "      <td>0</td>\n",
              "      <td>Everyone</td>\n",
              "      <td>Art &amp; Design</td>\n",
              "      <td>1.0.0</td>\n",
              "      <td>4.0.3 and up</td>\n",
              "    </tr>\n",
              "    <tr>\n",
              "      <th>2018-01-15</th>\n",
              "      <td>Coloring book moana</td>\n",
              "      <td>ART_AND_DESIGN</td>\n",
              "      <td>3.9</td>\n",
              "      <td>967</td>\n",
              "      <td>14M</td>\n",
              "      <td>500,000+</td>\n",
              "      <td>Free</td>\n",
              "      <td>0</td>\n",
              "      <td>Everyone</td>\n",
              "      <td>Art &amp; Design;Pretend Play</td>\n",
              "      <td>2.0.0</td>\n",
              "      <td>4.0.3 and up</td>\n",
              "    </tr>\n",
              "    <tr>\n",
              "      <th>2018-08-01</th>\n",
              "      <td>U Launcher Lite – FREE Live Cool Themes, Hide ...</td>\n",
              "      <td>ART_AND_DESIGN</td>\n",
              "      <td>4.7</td>\n",
              "      <td>87510</td>\n",
              "      <td>8.7M</td>\n",
              "      <td>5,000,000+</td>\n",
              "      <td>Free</td>\n",
              "      <td>0</td>\n",
              "      <td>Everyone</td>\n",
              "      <td>Art &amp; Design</td>\n",
              "      <td>1.2.4</td>\n",
              "      <td>4.0.3 and up</td>\n",
              "    </tr>\n",
              "    <tr>\n",
              "      <th>2018-06-08</th>\n",
              "      <td>Sketch - Draw &amp; Paint</td>\n",
              "      <td>ART_AND_DESIGN</td>\n",
              "      <td>4.5</td>\n",
              "      <td>215644</td>\n",
              "      <td>25M</td>\n",
              "      <td>50,000,000+</td>\n",
              "      <td>Free</td>\n",
              "      <td>0</td>\n",
              "      <td>Teen</td>\n",
              "      <td>Art &amp; Design</td>\n",
              "      <td>Varies with device</td>\n",
              "      <td>4.2 and up</td>\n",
              "    </tr>\n",
              "    <tr>\n",
              "      <th>2018-06-20</th>\n",
              "      <td>Pixel Draw - Number Art Coloring Book</td>\n",
              "      <td>ART_AND_DESIGN</td>\n",
              "      <td>4.3</td>\n",
              "      <td>967</td>\n",
              "      <td>2.8M</td>\n",
              "      <td>100,000+</td>\n",
              "      <td>Free</td>\n",
              "      <td>0</td>\n",
              "      <td>Everyone</td>\n",
              "      <td>Art &amp; Design;Creativity</td>\n",
              "      <td>1.1</td>\n",
              "      <td>4.4 and up</td>\n",
              "    </tr>\n",
              "  </tbody>\n",
              "</table>\n",
              "</div>"
            ],
            "text/plain": [
              "                                                            App  ...   Android Ver\n",
              "Last Updated                                                     ...              \n",
              "2018-01-07       Photo Editor & Candy Camera & Grid & ScrapBook  ...  4.0.3 and up\n",
              "2018-01-15                                  Coloring book moana  ...  4.0.3 and up\n",
              "2018-08-01    U Launcher Lite – FREE Live Cool Themes, Hide ...  ...  4.0.3 and up\n",
              "2018-06-08                                Sketch - Draw & Paint  ...    4.2 and up\n",
              "2018-06-20                Pixel Draw - Number Art Coloring Book  ...    4.4 and up\n",
              "\n",
              "[5 rows x 12 columns]"
            ]
          },
          "metadata": {
            "tags": []
          },
          "execution_count": 5
        }
      ]
    },
    {
      "cell_type": "code",
      "metadata": {
        "id": "Mobf1JYxCQWc",
        "outputId": "52b10548-0eab-4566-f424-8ae85bbf0d6f",
        "colab": {
          "base_uri": "https://localhost:8080/"
        }
      },
      "source": [
        "df.select_dtypes('object').nunique().sort_values()\n",
        "\n"
      ],
      "execution_count": 6,
      "outputs": [
        {
          "output_type": "execute_result",
          "data": {
            "text/plain": [
              "Type                 2\n",
              "Content Rating       6\n",
              "Installs            21\n",
              "Category            33\n",
              "Android Ver         33\n",
              "Price               92\n",
              "Genres             119\n",
              "Size               461\n",
              "Current Ver       2831\n",
              "Reviews           6001\n",
              "App               9659\n",
              "dtype: int64"
            ]
          },
          "metadata": {
            "tags": []
          },
          "execution_count": 6
        }
      ]
    },
    {
      "cell_type": "code",
      "metadata": {
        "id": "nFoCbVq9E7gt"
      },
      "source": [
        "df.isnull().sum()\n",
        "df['Type'].unique()\n",
        "df.dropna(subset=['Type'], inplace=True)\n"
      ],
      "execution_count": 7,
      "outputs": []
    },
    {
      "cell_type": "code",
      "metadata": {
        "id": "bfSfpRuMFRO4",
        "outputId": "35bc3541-abc6-41b3-a565-b451db9f18b9",
        "colab": {
          "base_uri": "https://localhost:8080/"
        }
      },
      "source": [
        "df['Type'].unique()"
      ],
      "execution_count": 8,
      "outputs": [
        {
          "output_type": "execute_result",
          "data": {
            "text/plain": [
              "array(['Free', 'Paid'], dtype=object)"
            ]
          },
          "metadata": {
            "tags": []
          },
          "execution_count": 8
        }
      ]
    },
    {
      "cell_type": "code",
      "metadata": {
        "id": "V3FDd-bUKf7-",
        "outputId": "521f6feb-1637-4372-b387-a2aa110f7de1",
        "colab": {
          "base_uri": "https://localhost:8080/"
        }
      },
      "source": [
        "df['Rating'].isnull().sum()"
      ],
      "execution_count": 9,
      "outputs": [
        {
          "output_type": "execute_result",
          "data": {
            "text/plain": [
              "1473"
            ]
          },
          "metadata": {
            "tags": []
          },
          "execution_count": 9
        }
      ]
    },
    {
      "cell_type": "markdown",
      "metadata": {
        "id": "ggx3L7YSB9UB"
      },
      "source": [
        "#**Wrangle**\n",
        "\n",
        "*    Remove rows with no targets in target column\n",
        "*    Remove High Cardinality Categorical Columns\n",
        "*    Will need SimleImputer later on for other nan values"
      ]
    },
    {
      "cell_type": "code",
      "metadata": {
        "id": "FvYtlcSdDNJz"
      },
      "source": [
        "def wrangle(X):\n",
        "  #Make a copy of X\n",
        "  X = X.copy()\n",
        "\n",
        "  #Drop Target rows with no targets\n",
        "  X.dropna(subset=['Rating'], inplace=True)\n",
        "\n",
        "  # Create `Ratings` column as target (Binary Classification)\n",
        "  X['Great_Rating'] = (X['Rating'] >= 4).astype(int)\n",
        "\n",
        "  # Drop `'Rating'` col to avoid leakage\n",
        "  X.drop(columns='Rating', inplace=True)\n",
        "\n",
        "  #Remove High Cardinality Categorical Columns\n",
        "  high_card_cols = [col for col in X.select_dtypes('object').columns\n",
        "                    if X[col].nunique() > 33]\n",
        "\n",
        "  X.drop(columns=high_card_cols, inplace=True)\n",
        "\n",
        "  return X\n",
        "\n",
        "\n",
        "\n"
      ],
      "execution_count": 10,
      "outputs": []
    },
    {
      "cell_type": "code",
      "metadata": {
        "id": "VvdSUDID_jv0"
      },
      "source": [
        "df = wrangle(df)"
      ],
      "execution_count": 11,
      "outputs": []
    },
    {
      "cell_type": "code",
      "metadata": {
        "id": "kWe-qu9KWzim",
        "outputId": "e7264d9a-0d88-4aaa-f4fa-31d741dd7885",
        "colab": {
          "base_uri": "https://localhost:8080/",
          "height": 431
        }
      },
      "source": [
        "df.sort_values(by='Last Updated', ascending=True)"
      ],
      "execution_count": 12,
      "outputs": [
        {
          "output_type": "execute_result",
          "data": {
            "text/html": [
              "<div>\n",
              "<style scoped>\n",
              "    .dataframe tbody tr th:only-of-type {\n",
              "        vertical-align: middle;\n",
              "    }\n",
              "\n",
              "    .dataframe tbody tr th {\n",
              "        vertical-align: top;\n",
              "    }\n",
              "\n",
              "    .dataframe thead th {\n",
              "        text-align: right;\n",
              "    }\n",
              "</style>\n",
              "<table border=\"1\" class=\"dataframe\">\n",
              "  <thead>\n",
              "    <tr style=\"text-align: right;\">\n",
              "      <th></th>\n",
              "      <th>Category</th>\n",
              "      <th>Installs</th>\n",
              "      <th>Type</th>\n",
              "      <th>Content Rating</th>\n",
              "      <th>Android Ver</th>\n",
              "      <th>Great_Rating</th>\n",
              "    </tr>\n",
              "    <tr>\n",
              "      <th>Last Updated</th>\n",
              "      <th></th>\n",
              "      <th></th>\n",
              "      <th></th>\n",
              "      <th></th>\n",
              "      <th></th>\n",
              "      <th></th>\n",
              "    </tr>\n",
              "  </thead>\n",
              "  <tbody>\n",
              "    <tr>\n",
              "      <th>2010-05-21</th>\n",
              "      <td>FAMILY</td>\n",
              "      <td>100,000+</td>\n",
              "      <td>Free</td>\n",
              "      <td>Everyone</td>\n",
              "      <td>1.5 and up</td>\n",
              "      <td>1</td>\n",
              "    </tr>\n",
              "    <tr>\n",
              "      <th>2011-01-30</th>\n",
              "      <td>GAME</td>\n",
              "      <td>50,000+</td>\n",
              "      <td>Free</td>\n",
              "      <td>Everyone</td>\n",
              "      <td>1.6 and up</td>\n",
              "      <td>1</td>\n",
              "    </tr>\n",
              "    <tr>\n",
              "      <th>2011-03-16</th>\n",
              "      <td>TOOLS</td>\n",
              "      <td>100,000+</td>\n",
              "      <td>Free</td>\n",
              "      <td>Everyone</td>\n",
              "      <td>1.6 and up</td>\n",
              "      <td>1</td>\n",
              "    </tr>\n",
              "    <tr>\n",
              "      <th>2011-04-11</th>\n",
              "      <td>GAME</td>\n",
              "      <td>5,000,000+</td>\n",
              "      <td>Free</td>\n",
              "      <td>Everyone 10+</td>\n",
              "      <td>2.0 and up</td>\n",
              "      <td>0</td>\n",
              "    </tr>\n",
              "    <tr>\n",
              "      <th>2011-04-16</th>\n",
              "      <td>GAME</td>\n",
              "      <td>50,000+</td>\n",
              "      <td>Free</td>\n",
              "      <td>Everyone</td>\n",
              "      <td>1.6 and up</td>\n",
              "      <td>1</td>\n",
              "    </tr>\n",
              "    <tr>\n",
              "      <th>...</th>\n",
              "      <td>...</td>\n",
              "      <td>...</td>\n",
              "      <td>...</td>\n",
              "      <td>...</td>\n",
              "      <td>...</td>\n",
              "      <td>...</td>\n",
              "    </tr>\n",
              "    <tr>\n",
              "      <th>2018-08-08</th>\n",
              "      <td>HEALTH_AND_FITNESS</td>\n",
              "      <td>1,000+</td>\n",
              "      <td>Paid</td>\n",
              "      <td>Everyone</td>\n",
              "      <td>4.2 and up</td>\n",
              "      <td>1</td>\n",
              "    </tr>\n",
              "    <tr>\n",
              "      <th>2018-08-08</th>\n",
              "      <td>SHOPPING</td>\n",
              "      <td>1,000,000+</td>\n",
              "      <td>Free</td>\n",
              "      <td>Everyone</td>\n",
              "      <td>Varies with device</td>\n",
              "      <td>1</td>\n",
              "    </tr>\n",
              "    <tr>\n",
              "      <th>2018-08-08</th>\n",
              "      <td>GAME</td>\n",
              "      <td>50,000,000+</td>\n",
              "      <td>Free</td>\n",
              "      <td>Teen</td>\n",
              "      <td>4.1 and up</td>\n",
              "      <td>1</td>\n",
              "    </tr>\n",
              "    <tr>\n",
              "      <th>2018-08-08</th>\n",
              "      <td>FINANCE</td>\n",
              "      <td>5,000+</td>\n",
              "      <td>Free</td>\n",
              "      <td>Everyone</td>\n",
              "      <td>5.0 and up</td>\n",
              "      <td>0</td>\n",
              "    </tr>\n",
              "    <tr>\n",
              "      <th>2018-08-08</th>\n",
              "      <td>TOOLS</td>\n",
              "      <td>50,000+</td>\n",
              "      <td>Free</td>\n",
              "      <td>Everyone</td>\n",
              "      <td>4.0.3 and up</td>\n",
              "      <td>1</td>\n",
              "    </tr>\n",
              "  </tbody>\n",
              "</table>\n",
              "<p>9366 rows × 6 columns</p>\n",
              "</div>"
            ],
            "text/plain": [
              "                        Category     Installs  ...         Android Ver Great_Rating\n",
              "Last Updated                                   ...                                 \n",
              "2010-05-21                FAMILY     100,000+  ...          1.5 and up            1\n",
              "2011-01-30                  GAME      50,000+  ...          1.6 and up            1\n",
              "2011-03-16                 TOOLS     100,000+  ...          1.6 and up            1\n",
              "2011-04-11                  GAME   5,000,000+  ...          2.0 and up            0\n",
              "2011-04-16                  GAME      50,000+  ...          1.6 and up            1\n",
              "...                          ...          ...  ...                 ...          ...\n",
              "2018-08-08    HEALTH_AND_FITNESS       1,000+  ...          4.2 and up            1\n",
              "2018-08-08              SHOPPING   1,000,000+  ...  Varies with device            1\n",
              "2018-08-08                  GAME  50,000,000+  ...          4.1 and up            1\n",
              "2018-08-08               FINANCE       5,000+  ...          5.0 and up            0\n",
              "2018-08-08                 TOOLS      50,000+  ...        4.0.3 and up            1\n",
              "\n",
              "[9366 rows x 6 columns]"
            ]
          },
          "metadata": {
            "tags": []
          },
          "execution_count": 12
        }
      ]
    },
    {
      "cell_type": "markdown",
      "metadata": {
        "id": "gbplIrDOcHRF"
      },
      "source": [
        "#**Split Data**"
      ]
    },
    {
      "cell_type": "code",
      "metadata": {
        "id": "4PjxRKFtW4Mv"
      },
      "source": [
        "target='Great_Rating'\n",
        "y = df[target]\n",
        "X = df.drop(target, axis=1)"
      ],
      "execution_count": 13,
      "outputs": []
    },
    {
      "cell_type": "code",
      "metadata": {
        "id": "rkSzI5kEcr-S"
      },
      "source": [
        "training_set = df[df.index.year < 2016]\n",
        "validation_set = df[(df.index.year < 2018) & (df.index.year > 2016)]\n",
        "test_set =  df[df.index.year == 2018]\n",
        "\n",
        "train_mask = X.index.year < 2016\n",
        "X_train, y_train = X.loc[train_mask], y.loc[train_mask]\n",
        "\n",
        "val_mask = (X.index.year > 2016) & (X.index.year < 2018)\n",
        "X_val, y_val = X.loc[val_mask], y.loc[val_mask]\n",
        "\n",
        "test_mask = X.index.year == 2018\n",
        "X_test, y_test = X.loc[test_mask], y.loc[test_mask]"
      ],
      "execution_count": 14,
      "outputs": []
    },
    {
      "cell_type": "markdown",
      "metadata": {
        "id": "KgEGeSwHibAy"
      },
      "source": [
        "#**Establish Baseline**"
      ]
    },
    {
      "cell_type": "code",
      "metadata": {
        "id": "sJEBreNMgC6g",
        "outputId": "fd35f9cc-1c0c-4403-8f0d-d3ff52b42f64",
        "colab": {
          "base_uri": "https://localhost:8080/"
        }
      },
      "source": [
        "print('Baseline Accuracy:', y_train.value_counts(normalize=True).max())"
      ],
      "execution_count": 15,
      "outputs": [
        {
          "output_type": "stream",
          "text": [
            "Baseline Accuracy: 0.6643159379407616\n"
          ],
          "name": "stdout"
        }
      ]
    },
    {
      "cell_type": "markdown",
      "metadata": {
        "id": "rOPm1z4lmP-F"
      },
      "source": [
        "#**Build Model**"
      ]
    },
    {
      "cell_type": "code",
      "metadata": {
        "id": "45KTb3u5mE9t",
        "outputId": "cfd0b8c2-4053-449e-dd97-f5746f135eb0",
        "colab": {
          "base_uri": "https://localhost:8080/"
        }
      },
      "source": [
        "df['Great_Rating'].value_counts()"
      ],
      "execution_count": 16,
      "outputs": [
        {
          "output_type": "execute_result",
          "data": {
            "text/plain": [
              "1    7368\n",
              "0    1998\n",
              "Name: Great_Rating, dtype: int64"
            ]
          },
          "metadata": {
            "tags": []
          },
          "execution_count": 16
        }
      ]
    },
    {
      "cell_type": "markdown",
      "metadata": {
        "id": "sUxfcKBcn2Nj"
      },
      "source": [
        "Complete these tasks for your project, and document your decisions.\n",
        "\n",
        " Choose your target. Which column in your tabular dataset will you predict?\n",
        " Is your problem regression or classification? \n",
        " **Rating is the target.** \n",
        " **However, I created a new Binary Classifcation target and named that column 'Great_Ratings'**\n",
        " How is your target distributed?\n",
        "Classification: How many classes? Are the classes imbalanced?\n",
        "**It is now a Binary Classification target and the classes are imbalanced.**\n",
        "Regression: Is the target right-skewed? If so, you may want to log transform the target.\n",
        " Choose your evaluation metric(s).\n",
        "Classification: Is your majority class frequency >= 50% and < 70% ? \n",
        "**The majority class frequency is over 70%. So, accuracy could be misleading.**\n",
        "If so, you can just use accuracy if you want. Outside that range, accuracy could be misleading. What evaluation metric will you choose, in addition to or instead of accuracy?\n",
        "**I will also look at Precision, Recall, and F1**\n",
        "**Then, Classification Report (on Validation)**\n",
        "**Create one for all f the models you create. So, make one for Random Forest and Logistic Regression Models**\n",
        "**Then, plot a Confusion Matrix. ROC Curve <-- Explains how your model performs on several different thresholds.**\n",
        "plot_roc_curve(model_lr, X_val, y_val);\n",
        "plt.plot([(0,0), (1,1)], color='grey', linestyle=('--)\n",
        "\n",
        "Regression: Will you use mean absolute error, root mean squared error, R^2, or other regression metrics?\n",
        " Choose which observations you will use to train, validate, and test your model.\n",
        "Are some observations outliers? Will you exclude them?\n",
        "Will you do a random split or a time-based split?\n",
        "**I performed a time based split on the data.**\n",
        " Begin to clean and explore your data.\n",
        " Begin to choose which features, if any, to exclude. Would some features \"leak\" future information?\n",
        " **I excluded features, created a new target feature, and removed the old target feature to prevent leakage.**"
      ]
    },
    {
      "cell_type": "code",
      "metadata": {
        "id": "krChv5f9yx-z"
      },
      "source": [
        ""
      ],
      "execution_count": 16,
      "outputs": []
    }
  ]
}