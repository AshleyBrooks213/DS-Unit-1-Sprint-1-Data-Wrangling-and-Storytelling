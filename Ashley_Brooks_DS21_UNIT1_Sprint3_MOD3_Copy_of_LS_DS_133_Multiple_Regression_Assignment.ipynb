{
  "nbformat": 4,
  "nbformat_minor": 0,
  "metadata": {
    "colab": {
      "name": "Ashley_Brooks_DS21_UNIT1_Sprint3_MOD3_Copy of LS_DS_133_Multiple_Regression_Assignment.ipynb",
      "provenance": [],
      "collapsed_sections": [],
      "include_colab_link": true
    },
    "kernelspec": {
      "name": "python3",
      "display_name": "Python 3"
    }
  },
  "cells": [
    {
      "cell_type": "markdown",
      "metadata": {
        "id": "view-in-github",
        "colab_type": "text"
      },
      "source": [
        "<a href=\"https://colab.research.google.com/github/AshleyBrooks213/DS-Unit-1-Sprint-1-Data-Wrangling-and-Storytelling/blob/master/Ashley_Brooks_DS21_UNIT1_Sprint3_MOD3_Copy_of_LS_DS_133_Multiple_Regression_Assignment.ipynb\" target=\"_parent\"><img src=\"https://colab.research.google.com/assets/colab-badge.svg\" alt=\"Open In Colab\"/></a>"
      ]
    },
    {
      "cell_type": "markdown",
      "metadata": {
        "id": "RQw2GTc8oDRw"
      },
      "source": [
        "Unit 1, Sprint 3, Module 3\n",
        "\n",
        "###Learning Objectives:\n",
        "- Student can model the relationship of multple predictor variables to a single outcome.\n",
        "- Student can conduct a t-test to determine the significance of individual variables in the model.\n",
        "- Student can compare model fit using R-squared"
      ]
    },
    {
      "cell_type": "markdown",
      "metadata": {
        "id": "cFb8YfSCQJmx"
      },
      "source": [
        "#Use the following information to answer the assignment questions."
      ]
    },
    {
      "cell_type": "markdown",
      "metadata": {
        "id": "MHWnltybtm8_"
      },
      "source": [
        "###Is head size related to brain weight in healthy adult humans?\n",
        "\n",
        "The Brainhead.csv dataset provides information on 237 individuals who were subject to post-mortem examination at the Middlesex Hospital in London around the turn of the 20th century. Study authors used cadavers to see if a relationship between brain weight and other more easily measured physiological characterizes such as age, sex, and head size could be determined. The end goal was to develop a way to estimate a person’s brain size while they were still alive (as the living aren’t keen on having their brains taken out and weighed). "
      ]
    },
    {
      "cell_type": "markdown",
      "metadata": {
        "id": "h5MRpr1HQHqp"
      },
      "source": [
        "**We wish to determine if we can improve on our model of the linear relationship between head size and brain weight in healthy human adults.**\n",
        "\n",
        "Source: R.J. Gladstone (1905). \"A Study of the Relations of the Brain to the Size of the Head\", Biometrika, Vol. 4, pp105-123."
      ]
    },
    {
      "cell_type": "code",
      "metadata": {
        "id": "0NKz1DvXQHqq",
        "outputId": "a765ce7c-c695-4ed6-c92c-1b6c566e842d",
        "colab": {
          "base_uri": "https://localhost:8080/",
          "height": 195
        }
      },
      "source": [
        "#Import the Brainhead.csv dataset from a URL and print the first few rows\n",
        "\n",
        "import pandas as pd\n",
        "import numpy as np\n",
        "\n",
        "\n",
        "data_url = 'https://raw.githubusercontent.com/LambdaSchool/data-science-practice-datasets/main/unit_1/Brainhead/Brainhead.csv'\n",
        "\n",
        "df = pd.read_csv(data_url, skipinitialspace=True, header=0)\n",
        "\n",
        "df.head()"
      ],
      "execution_count": 1,
      "outputs": [
        {
          "output_type": "execute_result",
          "data": {
            "text/html": [
              "<div>\n",
              "<style scoped>\n",
              "    .dataframe tbody tr th:only-of-type {\n",
              "        vertical-align: middle;\n",
              "    }\n",
              "\n",
              "    .dataframe tbody tr th {\n",
              "        vertical-align: top;\n",
              "    }\n",
              "\n",
              "    .dataframe thead th {\n",
              "        text-align: right;\n",
              "    }\n",
              "</style>\n",
              "<table border=\"1\" class=\"dataframe\">\n",
              "  <thead>\n",
              "    <tr style=\"text-align: right;\">\n",
              "      <th></th>\n",
              "      <th>Gender</th>\n",
              "      <th>Age</th>\n",
              "      <th>Head</th>\n",
              "      <th>Brain</th>\n",
              "    </tr>\n",
              "  </thead>\n",
              "  <tbody>\n",
              "    <tr>\n",
              "      <th>0</th>\n",
              "      <td>1</td>\n",
              "      <td>1</td>\n",
              "      <td>4512</td>\n",
              "      <td>1530</td>\n",
              "    </tr>\n",
              "    <tr>\n",
              "      <th>1</th>\n",
              "      <td>1</td>\n",
              "      <td>1</td>\n",
              "      <td>3738</td>\n",
              "      <td>1297</td>\n",
              "    </tr>\n",
              "    <tr>\n",
              "      <th>2</th>\n",
              "      <td>1</td>\n",
              "      <td>1</td>\n",
              "      <td>4261</td>\n",
              "      <td>1335</td>\n",
              "    </tr>\n",
              "    <tr>\n",
              "      <th>3</th>\n",
              "      <td>1</td>\n",
              "      <td>1</td>\n",
              "      <td>3777</td>\n",
              "      <td>1282</td>\n",
              "    </tr>\n",
              "    <tr>\n",
              "      <th>4</th>\n",
              "      <td>1</td>\n",
              "      <td>1</td>\n",
              "      <td>4177</td>\n",
              "      <td>1590</td>\n",
              "    </tr>\n",
              "  </tbody>\n",
              "</table>\n",
              "</div>"
            ],
            "text/plain": [
              "   Gender  Age  Head  Brain\n",
              "0       1    1  4512   1530\n",
              "1       1    1  3738   1297\n",
              "2       1    1  4261   1335\n",
              "3       1    1  3777   1282\n",
              "4       1    1  4177   1590"
            ]
          },
          "metadata": {
            "tags": []
          },
          "execution_count": 1
        }
      ]
    },
    {
      "cell_type": "markdown",
      "metadata": {
        "id": "EvmC93blRIDu"
      },
      "source": [
        "From the data dictionary:\n",
        "\n",
        "Gender: 1 = male, 2 = female\n",
        "\n",
        "Age: 1 = younger than age 46, 2 = age 46 and older"
      ]
    },
    {
      "cell_type": "markdown",
      "metadata": {
        "id": "4eJsXuRLxKrz"
      },
      "source": [
        "1) Run the OLS model relating head size to brain weight (you should have done this in your project yesterday) and print your results"
      ]
    },
    {
      "cell_type": "code",
      "metadata": {
        "id": "c9qyMXd_Hh6l",
        "outputId": "d3cd4e5a-e0c5-4476-be44-d39efadeba99",
        "colab": {
          "base_uri": "https://localhost:8080/",
          "height": 470
        }
      },
      "source": [
        "### YOUR CODE HERE ###\n",
        "\n",
        "from statsmodels.formula.api import ols \n",
        "\n",
        "model = ols('Brain ~ Head', data=df).fit()\n",
        "\n",
        "print(model.summary())"
      ],
      "execution_count": 2,
      "outputs": [
        {
          "output_type": "stream",
          "text": [
            "                            OLS Regression Results                            \n",
            "==============================================================================\n",
            "Dep. Variable:                  Brain   R-squared:                       0.639\n",
            "Model:                            OLS   Adj. R-squared:                  0.638\n",
            "Method:                 Least Squares   F-statistic:                     416.5\n",
            "Date:                Wed, 14 Oct 2020   Prob (F-statistic):           5.96e-54\n",
            "Time:                        17:31:04   Log-Likelihood:                -1350.3\n",
            "No. Observations:                 237   AIC:                             2705.\n",
            "Df Residuals:                     235   BIC:                             2711.\n",
            "Df Model:                           1                                         \n",
            "Covariance Type:            nonrobust                                         \n",
            "==============================================================================\n",
            "                 coef    std err          t      P>|t|      [0.025      0.975]\n",
            "------------------------------------------------------------------------------\n",
            "Intercept    325.5734     47.141      6.906      0.000     232.701     418.446\n",
            "Head           0.2634      0.013     20.409      0.000       0.238       0.289\n",
            "==============================================================================\n",
            "Omnibus:                        8.329   Durbin-Watson:                   1.843\n",
            "Prob(Omnibus):                  0.016   Jarque-Bera (JB):                8.665\n",
            "Skew:                           0.366   Prob(JB):                       0.0131\n",
            "Kurtosis:                       3.584   Cond. No.                     3.66e+04\n",
            "==============================================================================\n",
            "\n",
            "Warnings:\n",
            "[1] Standard Errors assume that the covariance matrix of the errors is correctly specified.\n",
            "[2] The condition number is large, 3.66e+04. This might indicate that there are\n",
            "strong multicollinearity or other numerical problems.\n"
          ],
          "name": "stdout"
        }
      ]
    },
    {
      "cell_type": "markdown",
      "metadata": {
        "id": "y21TW4n67mNq"
      },
      "source": [
        "2) What is the adjusted $R^2$ for this model?  Explain what this value means in a complete sentence.\n",
        "\n"
      ]
    },
    {
      "cell_type": "markdown",
      "metadata": {
        "id": "8GuTIO3Nvkyb"
      },
      "source": [
        "Answer here: The Adjust R**2 for this model is 0.638. This is 0.001 less than R-squared. Adjusted R squared takes the new independent variables into consideration. So, if our R-squared value stays the same our Adjusted R Squared value will decrease. This tells us that the new independent variable does not have a relationship with our slope value (in this case head size). \n"
      ]
    },
    {
      "cell_type": "markdown",
      "metadata": {
        "id": "Xj2YmBd_Jl9q"
      },
      "source": [
        "3) Right now age and gender are coded with 1 and 2.  Just to be safe when we run our model, we want to subtract \"1\" from Age and Gender so that \"1\" is now coded as \"0\" and \"2\" is now coded as \"1\".  Create two new variables in the dataframe to do this - don't overwrite the original variables."
      ]
    },
    {
      "cell_type": "code",
      "metadata": {
        "id": "z9z5i-EaKcj6",
        "outputId": "894ec61b-82b6-4174-f4c5-06527bed8557",
        "colab": {
          "base_uri": "https://localhost:8080/",
          "height": 195
        }
      },
      "source": [
        "### YOUR CODE HERE ###\n",
        "\n",
        "df['Age_1'] = (df['Age']-1)\n",
        "\n",
        "df.head()\n",
        "\n",
        "df['Gender_1'] = (df['Gender']-1)\n",
        "\n",
        "df.head()"
      ],
      "execution_count": 7,
      "outputs": [
        {
          "output_type": "execute_result",
          "data": {
            "text/html": [
              "<div>\n",
              "<style scoped>\n",
              "    .dataframe tbody tr th:only-of-type {\n",
              "        vertical-align: middle;\n",
              "    }\n",
              "\n",
              "    .dataframe tbody tr th {\n",
              "        vertical-align: top;\n",
              "    }\n",
              "\n",
              "    .dataframe thead th {\n",
              "        text-align: right;\n",
              "    }\n",
              "</style>\n",
              "<table border=\"1\" class=\"dataframe\">\n",
              "  <thead>\n",
              "    <tr style=\"text-align: right;\">\n",
              "      <th></th>\n",
              "      <th>Gender</th>\n",
              "      <th>Age</th>\n",
              "      <th>Head</th>\n",
              "      <th>Brain</th>\n",
              "      <th>Age_1</th>\n",
              "      <th>Gender_1</th>\n",
              "    </tr>\n",
              "  </thead>\n",
              "  <tbody>\n",
              "    <tr>\n",
              "      <th>0</th>\n",
              "      <td>1</td>\n",
              "      <td>1</td>\n",
              "      <td>4512</td>\n",
              "      <td>1530</td>\n",
              "      <td>0</td>\n",
              "      <td>0</td>\n",
              "    </tr>\n",
              "    <tr>\n",
              "      <th>1</th>\n",
              "      <td>1</td>\n",
              "      <td>1</td>\n",
              "      <td>3738</td>\n",
              "      <td>1297</td>\n",
              "      <td>0</td>\n",
              "      <td>0</td>\n",
              "    </tr>\n",
              "    <tr>\n",
              "      <th>2</th>\n",
              "      <td>1</td>\n",
              "      <td>1</td>\n",
              "      <td>4261</td>\n",
              "      <td>1335</td>\n",
              "      <td>0</td>\n",
              "      <td>0</td>\n",
              "    </tr>\n",
              "    <tr>\n",
              "      <th>3</th>\n",
              "      <td>1</td>\n",
              "      <td>1</td>\n",
              "      <td>3777</td>\n",
              "      <td>1282</td>\n",
              "      <td>0</td>\n",
              "      <td>0</td>\n",
              "    </tr>\n",
              "    <tr>\n",
              "      <th>4</th>\n",
              "      <td>1</td>\n",
              "      <td>1</td>\n",
              "      <td>4177</td>\n",
              "      <td>1590</td>\n",
              "      <td>0</td>\n",
              "      <td>0</td>\n",
              "    </tr>\n",
              "  </tbody>\n",
              "</table>\n",
              "</div>"
            ],
            "text/plain": [
              "   Gender  Age  Head  Brain  Age_1  Gender_1\n",
              "0       1    1  4512   1530      0         0\n",
              "1       1    1  3738   1297      0         0\n",
              "2       1    1  4261   1335      0         0\n",
              "3       1    1  3777   1282      0         0\n",
              "4       1    1  4177   1590      0         0"
            ]
          },
          "metadata": {
            "tags": []
          },
          "execution_count": 7
        }
      ]
    },
    {
      "cell_type": "markdown",
      "metadata": {
        "id": "DGuhAOmhId9d"
      },
      "source": [
        "4) Model the relationship of age group and head size to brain weight."
      ]
    },
    {
      "cell_type": "code",
      "metadata": {
        "id": "d6fY5PSPIuOi",
        "outputId": "e4af515a-43e5-4142-a49f-ea235eb73d47",
        "colab": {
          "base_uri": "https://localhost:8080/",
          "height": 487
        }
      },
      "source": [
        "### YOUR CODE HERE ###\n",
        "\n",
        "\n",
        "model1 = ols('Brain ~ Head + Age_1', data=df).fit()\n",
        "\n",
        "print(model1.summary())"
      ],
      "execution_count": 8,
      "outputs": [
        {
          "output_type": "stream",
          "text": [
            "                            OLS Regression Results                            \n",
            "==============================================================================\n",
            "Dep. Variable:                  Brain   R-squared:                       0.647\n",
            "Model:                            OLS   Adj. R-squared:                  0.644\n",
            "Method:                 Least Squares   F-statistic:                     214.1\n",
            "Date:                Wed, 14 Oct 2020   Prob (F-statistic):           1.38e-53\n",
            "Time:                        17:46:47   Log-Likelihood:                -1347.8\n",
            "No. Observations:                 237   AIC:                             2702.\n",
            "Df Residuals:                     234   BIC:                             2712.\n",
            "Df Model:                           2                                         \n",
            "Covariance Type:            nonrobust                                         \n",
            "==============================================================================\n",
            "                 coef    std err          t      P>|t|      [0.025      0.975]\n",
            "------------------------------------------------------------------------------\n",
            "Intercept    347.5505     47.811      7.269      0.000     253.355     441.746\n",
            "Head           0.2604      0.013     20.229      0.000       0.235       0.286\n",
            "Age_1        -20.7316      9.410     -2.203      0.029     -39.270      -2.193\n",
            "==============================================================================\n",
            "Omnibus:                        7.943   Durbin-Watson:                   1.889\n",
            "Prob(Omnibus):                  0.019   Jarque-Bera (JB):                8.238\n",
            "Skew:                           0.353   Prob(JB):                       0.0163\n",
            "Kurtosis:                       3.579   Cond. No.                     3.75e+04\n",
            "==============================================================================\n",
            "\n",
            "Warnings:\n",
            "[1] Standard Errors assume that the covariance matrix of the errors is correctly specified.\n",
            "[2] The condition number is large, 3.75e+04. This might indicate that there are\n",
            "strong multicollinearity or other numerical problems.\n"
          ],
          "name": "stdout"
        }
      ]
    },
    {
      "cell_type": "markdown",
      "metadata": {
        "id": "Bq5YE7heKoDo"
      },
      "source": [
        "5) At the alpha = 0.05 level, is age group statistically significantly associated with brain weight after accounting for head size?  Explain your answer in at least one complete sentence."
      ]
    },
    {
      "cell_type": "markdown",
      "metadata": {
        "id": "NxFj_mUwLTCf"
      },
      "source": [
        "Answer here: \n",
        "We reject the null hypothesis at the alpha level 0.05 and conclude that there is Age is statistically significantly associated with brain weight after accounting for head size. "
      ]
    },
    {
      "cell_type": "markdown",
      "metadata": {
        "id": "kWEAlAWVLfjn"
      },
      "source": [
        "6) At the alpha = 0.01 level, is age group statistically significantly associated with brain weight after accounting for head size?  Explain your answer in at least one complete sentence."
      ]
    },
    {
      "cell_type": "markdown",
      "metadata": {
        "id": "MxJIbPE8LjnX"
      },
      "source": [
        "Answer here: We fail to reject the null hypothesis at the 0.01 alpha level and conclude that Age is not statisticall significantly associated with brain weight after accounting for head size. "
      ]
    },
    {
      "cell_type": "markdown",
      "metadata": {
        "id": "VAdboVOmLsqR"
      },
      "source": [
        "7) What is the adjusted $R^2$ for the model relating head size and age group to brain weight?  Does adding age group to the model increase the amount of variability in brain weight explained by the model?"
      ]
    },
    {
      "cell_type": "markdown",
      "metadata": {
        "id": "E9LtO4VBML2u"
      },
      "source": [
        "Answer here: The adjust R-squared for the model relating head size and age group to brain weight is 0.644 or 64%. Adding the Age group to the model increases the amount of variability in brain weight explained by the model. "
      ]
    },
    {
      "cell_type": "markdown",
      "metadata": {
        "id": "Je3yM5G9Mdkx"
      },
      "source": [
        "8) Model the relationship of gender and head size to brain weight."
      ]
    },
    {
      "cell_type": "code",
      "metadata": {
        "id": "Ii7PVMgJMnNC",
        "outputId": "e15cba46-4312-4664-fb4d-8b83e9fa8514",
        "colab": {
          "base_uri": "https://localhost:8080/",
          "height": 487
        }
      },
      "source": [
        "### YOUR CODE HERE ###\n",
        "\n",
        "model2 = ols('Brain ~ Head + Gender_1', data=df).fit()\n",
        "\n",
        "print(model2.summary())"
      ],
      "execution_count": 9,
      "outputs": [
        {
          "output_type": "stream",
          "text": [
            "                            OLS Regression Results                            \n",
            "==============================================================================\n",
            "Dep. Variable:                  Brain   R-squared:                       0.643\n",
            "Model:                            OLS   Adj. R-squared:                  0.640\n",
            "Method:                 Least Squares   F-statistic:                     211.0\n",
            "Date:                Wed, 14 Oct 2020   Prob (F-statistic):           4.15e-53\n",
            "Time:                        17:55:31   Log-Likelihood:                -1348.9\n",
            "No. Observations:                 237   AIC:                             2704.\n",
            "Df Residuals:                     234   BIC:                             2714.\n",
            "Df Model:                           2                                         \n",
            "Covariance Type:            nonrobust                                         \n",
            "==============================================================================\n",
            "                 coef    std err          t      P>|t|      [0.025      0.975]\n",
            "------------------------------------------------------------------------------\n",
            "Intercept    378.7139     57.299      6.609      0.000     265.825     491.603\n",
            "Head           0.2509      0.015     16.734      0.000       0.221       0.280\n",
            "Gender_1     -17.8615     11.027     -1.620      0.107     -39.586       3.863\n",
            "==============================================================================\n",
            "Omnibus:                        8.109   Durbin-Watson:                   1.858\n",
            "Prob(Omnibus):                  0.017   Jarque-Bera (JB):                8.403\n",
            "Skew:                           0.360   Prob(JB):                       0.0150\n",
            "Kurtosis:                       3.576   Cond. No.                     4.49e+04\n",
            "==============================================================================\n",
            "\n",
            "Warnings:\n",
            "[1] Standard Errors assume that the covariance matrix of the errors is correctly specified.\n",
            "[2] The condition number is large, 4.49e+04. This might indicate that there are\n",
            "strong multicollinearity or other numerical problems.\n"
          ],
          "name": "stdout"
        }
      ]
    },
    {
      "cell_type": "markdown",
      "metadata": {
        "id": "tYG00tRDM4E9"
      },
      "source": [
        "9) At the alpha = 0.05 level, is gender statistically significantly associated with brain weight after accounting for head size?  Explain your answer in at least one complete sentence."
      ]
    },
    {
      "cell_type": "markdown",
      "metadata": {
        "id": "9VLKDiESxJSR"
      },
      "source": [
        "Answer here: We fail to reject the null hypothesis at the alpha level 0.05 and conclude that gender is statistically significantly asociated with brain weight after accounting for head size. \n",
        "\n",
        "The P-value is  more than the alpha level 0.05."
      ]
    },
    {
      "cell_type": "markdown",
      "metadata": {
        "id": "EmEI47CbC-ld"
      },
      "source": [
        "10) Write the linear model (insert the coefficients in the correct places) used to model the relationship between head size, age group and predicted brain weight.\n",
        "\n",
        "\n"
      ]
    },
    {
      "cell_type": "markdown",
      "metadata": {
        "id": "vXtOtQ-fDTaa"
      },
      "source": [
        "Answer here: \n",
        "\n",
        "$\\hat{y}$ = 347.55 + 0.26 x Head - 20.73 x Age_1"
      ]
    },
    {
      "cell_type": "markdown",
      "metadata": {
        "id": "GI170a6-o6hx"
      },
      "source": [
        "11) Plot the relationship between head size and brain weight on a scatterplot. Use different color dots to represent older and younger individuals."
      ]
    },
    {
      "cell_type": "code",
      "metadata": {
        "id": "LtYcWjOGAXo3",
        "outputId": "4473d5a4-2ee4-4579-b236-d77092aad9bd",
        "colab": {
          "base_uri": "https://localhost:8080/",
          "height": 295
        }
      },
      "source": [
        "### YOUR CODE HERE ###\n",
        "\n",
        "import matplotlib.pyplot as plt\n",
        "fig, ax = plt.subplots() \n",
        "\n",
        "#Color the points differently depending on if the body was buried with quicklime or not.\n",
        "plt.scatter(x = df['Head'], y = df['Brain'], c = df['Age_1'])\n",
        "\n",
        "ax.set_title('Head Size and Brain Weight')\n",
        "ax.set_xlabel('Head size in cuic cm')\n",
        "ax.set_ylabel('Brain Weight in g')\n",
        "\n",
        "plt.show()\n",
        "\n"
      ],
      "execution_count": 12,
      "outputs": [
        {
          "output_type": "display_data",
          "data": {
            "image/png": "[encoded data removed]",
            "text/plain": [
              "<Figure size 432x288 with 1 Axes>"
            ]
          },
          "metadata": {
            "tags": [],
            "needs_background": "light"
          }
        }
      ]
    },
    {
      "cell_type": "markdown",
      "metadata": {
        "id": "wqv11_e7S7Ib"
      },
      "source": [
        "12) Estimate the brain weight of a 60-year-old with a head size of 4000 cubic cm."
      ]
    },
    {
      "cell_type": "code",
      "metadata": {
        "id": "Az7aXj-N6sW6",
        "outputId": "434494c2-efc9-4227-983e-1568109155bf",
        "colab": {
          "base_uri": "https://localhost:8080/",
          "height": 34
        }
      },
      "source": [
        "### YOUR CODE HERE ###\n",
        "#Make sure we're working with the correct model\n",
        "model = ols('Brain ~ Head + Age_1', data=df).fit()\n",
        "\n",
        "\n",
        "#Specify the values of x we'd like to predict\n",
        "x1 = 4000\n",
        "x2 = 1\n",
        "\n",
        "#Extract the slope and intercept values from the model paramters\n",
        "intercept = model.params[0]\n",
        "slope1 = model.params[1]\n",
        "slope2 = model.params[2]\n",
        "\n",
        "#Use the model coefficients and plug the new value of x into the regression equation\n",
        "predicted = intercept + slope1*x1 + slope2*x2\n",
        "\n",
        "print(predicted)\n"
      ],
      "execution_count": 13,
      "outputs": [
        {
          "output_type": "stream",
          "text": [
            "1368.573921722076\n"
          ],
          "name": "stdout"
        }
      ]
    },
    {
      "cell_type": "markdown",
      "metadata": {
        "id": "B1O2nuW_3ixr"
      },
      "source": [
        "Answer here: We estimate that the brain weight of a 60-year-old with a head size of 4000 cubic cm is 1368.57g."
      ]
    },
    {
      "cell_type": "markdown",
      "metadata": {
        "id": "-rhf7zmX9g3E"
      },
      "source": [
        "13) Estimate the brain weight of a 20-year-old with a head size of 3900 cubic cm."
      ]
    },
    {
      "cell_type": "code",
      "metadata": {
        "id": "gX01KjaSQxkF",
        "outputId": "774d4fb4-fa32-47e2-9afa-9e2382ca1237",
        "colab": {
          "base_uri": "https://localhost:8080/",
          "height": 34
        }
      },
      "source": [
        "### YOUR CODE HERE ###\n",
        "\n",
        "#Make sure we're working with the correct model\n",
        "model = ols('Brain ~ Head + Age_1', data=df).fit()\n",
        "\n",
        "\n",
        "#Specify the values of x we'd like to predict\n",
        "x1 = 3900\n",
        "x2 = 0\n",
        "\n",
        "#Extract the slope and intercept values from the model paramters\n",
        "intercept = model.params[0]\n",
        "slope1 = model.params[1]\n",
        "slope2 = model.params[2]\n",
        "\n",
        "#Use the model coefficients and plug the new value of x into the regression equation\n",
        "predicted = intercept + slope1*x1 + slope2*x2\n",
        "\n",
        "print(predicted)\n",
        "\n"
      ],
      "execution_count": 15,
      "outputs": [
        {
          "output_type": "stream",
          "text": [
            "1363.261689710586\n"
          ],
          "name": "stdout"
        }
      ]
    },
    {
      "cell_type": "markdown",
      "metadata": {
        "id": "iRVl1ZyC92kj"
      },
      "source": [
        "Answer here: We estimate that the brain weight of a 20-year-old with a head size of 3900 cubic cm is 1363.26 g."
      ]
    },
    {
      "cell_type": "markdown",
      "metadata": {
        "id": "R-dBXGzCRu4a"
      },
      "source": [
        "#Portfolio Project Assignment\n",
        "\n",
        "Get (and give) constructive feedback to a peer.  Swap projects with at least one other student, and give each other constructive feedback.  Make sure to tell them what you like about their project as well as any suggestions you have for imporvement."
      ]
    },
    {
      "cell_type": "markdown",
      "metadata": {
        "id": "RnDi8855VIPB"
      },
      "source": [
        "\n",
        "\n",
        "---\n",
        "\n"
      ]
    }
  ]
}