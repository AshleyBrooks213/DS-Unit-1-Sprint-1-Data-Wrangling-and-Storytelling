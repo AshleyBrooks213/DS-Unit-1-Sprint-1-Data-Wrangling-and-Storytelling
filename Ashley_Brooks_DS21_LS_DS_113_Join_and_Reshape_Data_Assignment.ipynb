{
  "nbformat": 4,
  "nbformat_minor": 0,
  "metadata": {
    "colab": {
      "name": "Ashley_Brooks_DS21 LS_DS_113_Join_and_Reshape_Data_Assignment.ipynb",
      "provenance": [],
      "collapsed_sections": [],
      "machine_shape": "hm",
      "include_colab_link": true
    },
    "kernelspec": {
      "display_name": "Python 3",
      "language": "python",
      "name": "python3"
    }
  },
  "cells": [
    {
      "cell_type": "markdown",
      "metadata": {
        "id": "view-in-github",
        "colab_type": "text"
      },
      "source": [
        "<a href=\"https://colab.research.google.com/github/AshleyBrooks213/DS-Unit-1-Sprint-1-Data-Wrangling-and-Storytelling/blob/master/Ashley_Brooks_DS21_LS_DS_113_Join_and_Reshape_Data_Assignment.ipynb\" target=\"_parent\"><img src=\"https://colab.research.google.com/assets/colab-badge.svg\" alt=\"Open In Colab\"/></a>"
      ]
    },
    {
      "cell_type": "markdown",
      "metadata": {
        "id": "pmU5YUal1eTZ"
      },
      "source": [
        "_Lambda School Data Science_\n",
        "\n",
        "# Join and Reshape datasets\n",
        "\n",
        "Objectives\n",
        "- concatenate data with pandas\n",
        "- merge data with pandas\n",
        "-  understand tidy data formatting\n",
        "-  melt and pivot data with pandas\n",
        "\n",
        "Links\n",
        "- [Pandas Cheat Sheet](https://github.com/pandas-dev/pandas/blob/master/doc/cheatsheet/Pandas_Cheat_Sheet.pdf)\n",
        "- [Tidy Data](https://en.wikipedia.org/wiki/Tidy_data)\n",
        "  - Combine Data Sets: Standard Joins\n",
        "  - Tidy Data\n",
        "  - Reshaping Data\n",
        "- Python Data Science Handbook\n",
        "  - [Chapter 3.6](https://jakevdp.github.io/PythonDataScienceHandbook/03.06-concat-and-append.html), Combining Datasets: Concat and Append\n",
        "  - [Chapter 3.7](https://jakevdp.github.io/PythonDataScienceHandbook/03.07-merge-and-join.html), Combining Datasets: Merge and Join\n",
        "  - [Chapter 3.8](https://jakevdp.github.io/PythonDataScienceHandbook/03.08-aggregation-and-grouping.html), Aggregation and Grouping\n",
        "  - [Chapter 3.9](https://jakevdp.github.io/PythonDataScienceHandbook/03.09-pivot-tables.html), Pivot Tables\n",
        "  \n",
        "Reference\n",
        "- Pandas Documentation: [Reshaping and Pivot Tables](https://pandas.pydata.org/pandas-docs/stable/reshaping.html)\n",
        "- Modern Pandas, Part 5: [Tidy Data](https://tomaugspurger.github.io/modern-5-tidy.html)"
      ]
    },
    {
      "cell_type": "code",
      "metadata": {
        "id": "4E3wKrdTChuC",
        "outputId": "4470f638-07ca-4a53-9529-410fc9eb095b",
        "colab": {
          "base_uri": "https://localhost:8080/",
          "height": 457
        }
      },
      "source": [
        "#!wget https://s3.amazonaws.com/instacart-datasets/instacart_online_grocery_shopping_2017_05_01.tar.gz \n",
        "\n",
        "# Make sure we're in the top-level /content directory\n",
        "#\n",
        "# See below for notes on the cd command and why it's %cd instead of !cd\n",
        "%cd /content\n",
        "\n",
        "# Remove everything in the current working directory\n",
        "#\n",
        "# rm is the remove command\n",
        "# -rf specifies the \"recursive\" and \"force\" options to remove all files in \n",
        "# subdirectories without prompting\n",
        "#\n",
        "# THIS IS A POWERFUL COMMAND! DO NOT run this command on your local computer - ever!!\n",
        "#\n",
        "# In this particular case, removing all of the files makes things easier if you\n",
        "# need to re-run these examples by allowing you start with a clean directory\n",
        "# every time.\n",
        "!rm -rf *\n",
        "\n",
        "# wget retrieves files from a remote location\n",
        "!wget https://www.dropbox.com/s/pofcl26lvoj6073/instacart-market-basket-analysis.zip"
      ],
      "execution_count": 1,
      "outputs": [
        {
          "output_type": "stream",
          "text": [
            "/content\n",
            "--2020-09-30 21:37:49--  https://www.dropbox.com/s/pofcl26lvoj6073/instacart-market-basket-analysis.zip\n",
            "Resolving www.dropbox.com (www.dropbox.com)... 162.125.65.1, 2620:100:6021:1::a27d:4101\n",
            "Connecting to www.dropbox.com (www.dropbox.com)|162.125.65.1|:443... connected.\n",
            "HTTP request sent, awaiting response... 301 Moved Permanently\n",
            "Location: /s/raw/pofcl26lvoj6073/instacart-market-basket-analysis.zip [following]\n",
            "--2020-09-30 21:37:49--  https://www.dropbox.com/s/raw/pofcl26lvoj6073/instacart-market-basket-analysis.zip\n",
            "Reusing existing connection to www.dropbox.com:443.\n",
            "HTTP request sent, awaiting response... 302 Found\n",
            "Location: https://ucbf2394de18ab07dab79f81a73a.dl.dropboxusercontent.com/cd/0/inline/BAaBhunz9whVUhs4evtUi-sjj9QzUg6EMzgy6vuBudtI5YoP6pIjHChrPe1QTWFvl_6WSYNkiyww3z0fXDVsc2LoTqhw4QDym0K-KeH182QUeG1PZ7UUL4wS3tV_E9UGcs8/file# [following]\n",
            "--2020-09-30 21:37:50--  https://ucbf2394de18ab07dab79f81a73a.dl.dropboxusercontent.com/cd/0/inline/BAaBhunz9whVUhs4evtUi-sjj9QzUg6EMzgy6vuBudtI5YoP6pIjHChrPe1QTWFvl_6WSYNkiyww3z0fXDVsc2LoTqhw4QDym0K-KeH182QUeG1PZ7UUL4wS3tV_E9UGcs8/file\n",
            "Resolving ucbf2394de18ab07dab79f81a73a.dl.dropboxusercontent.com (ucbf2394de18ab07dab79f81a73a.dl.dropboxusercontent.com)... 162.125.65.15, 2620:100:6021:15::a27d:410f\n",
            "Connecting to ucbf2394de18ab07dab79f81a73a.dl.dropboxusercontent.com (ucbf2394de18ab07dab79f81a73a.dl.dropboxusercontent.com)|162.125.65.15|:443... connected.\n",
            "HTTP request sent, awaiting response... 302 Found\n",
            "Location: /cd/0/inline2/BAZ2jHpEzGkH3yBLyK8an5bE-wKjrjSCHfY_6jFLSYuQCuU1MFV5GKZ86BjFky0Li3Pr9g2SFeUpnfmvWuV6u5S-BWcbm_TQ_EfBNOrxfeGDXfah07MBzwvN2hn3S2sXL-vuM-RJsucaTl6ClugbcDnc97dE0AfTsmdoId4ha0wO50BwN9V2u7iwgvD8vuW2WMWRTZyJSA1_VZmB4c9IrmxfpTblR4A0J8MlaRIc8Iw4LJ7I-COeQX_h_RJ0vb5-OEkYIvwQ-BrNjXR1ldU-Mgq2lVsAFfi-wCcXxVx89EnouqD-cW__ayxKNClH_CDPXOCm2QzivgnZBP3jhO_nkWsMPZaVMyLERsIosPb6PqNtKw/file [following]\n",
            "--2020-09-30 21:37:51--  https://ucbf2394de18ab07dab79f81a73a.dl.dropboxusercontent.com/cd/0/inline2/BAZ2jHpEzGkH3yBLyK8an5bE-wKjrjSCHfY_6jFLSYuQCuU1MFV5GKZ86BjFky0Li3Pr9g2SFeUpnfmvWuV6u5S-BWcbm_TQ_EfBNOrxfeGDXfah07MBzwvN2hn3S2sXL-vuM-RJsucaTl6ClugbcDnc97dE0AfTsmdoId4ha0wO50BwN9V2u7iwgvD8vuW2WMWRTZyJSA1_VZmB4c9IrmxfpTblR4A0J8MlaRIc8Iw4LJ7I-COeQX_h_RJ0vb5-OEkYIvwQ-BrNjXR1ldU-Mgq2lVsAFfi-wCcXxVx89EnouqD-cW__ayxKNClH_CDPXOCm2QzivgnZBP3jhO_nkWsMPZaVMyLERsIosPb6PqNtKw/file\n",
            "Reusing existing connection to ucbf2394de18ab07dab79f81a73a.dl.dropboxusercontent.com:443.\n",
            "HTTP request sent, awaiting response... 200 OK\n",
            "Length: 205616541 (196M) [application/zip]\n",
            "Saving to: ‘instacart-market-basket-analysis.zip’\n",
            "\n",
            "instacart-market-ba 100%[===================>] 196.09M  22.4MB/s    in 8.9s    \n",
            "\n",
            "2020-09-30 21:38:00 (22.1 MB/s) - ‘instacart-market-basket-analysis.zip’ saved [205616541/205616541]\n",
            "\n"
          ],
          "name": "stdout"
        }
      ]
    },
    {
      "cell_type": "code",
      "metadata": {
        "id": "dkxqMNGrDJrM",
        "outputId": "8dbe6aad-ec4b-4f12-d540-b5441900fce4",
        "colab": {
          "base_uri": "https://localhost:8080/",
          "height": 302
        }
      },
      "source": [
        "# Unzip the archive\n",
        "#\n",
        "# Creates a new directory called instacart-market-basket-analysis\n",
        "\n",
        "!unzip instacart-market-basket-analysis.zip"
      ],
      "execution_count": 2,
      "outputs": [
        {
          "output_type": "stream",
          "text": [
            "Archive:  instacart-market-basket-analysis.zip\n",
            "   creating: instacart-market-basket-analysis/\n",
            "  inflating: __MACOSX/._instacart-market-basket-analysis  \n",
            "  inflating: instacart-market-basket-analysis/order_products__prior.csv.zip  \n",
            "  inflating: __MACOSX/instacart-market-basket-analysis/._order_products__prior.csv.zip  \n",
            "  inflating: instacart-market-basket-analysis/.DS_Store  \n",
            "  inflating: __MACOSX/instacart-market-basket-analysis/._.DS_Store  \n",
            "  inflating: instacart-market-basket-analysis/order_products__train.csv.zip  \n",
            "  inflating: __MACOSX/instacart-market-basket-analysis/._order_products__train.csv.zip  \n",
            "  inflating: instacart-market-basket-analysis/aisles.csv.zip  \n",
            "  inflating: __MACOSX/instacart-market-basket-analysis/._aisles.csv.zip  \n",
            "  inflating: instacart-market-basket-analysis/orders.csv.zip  \n",
            "  inflating: __MACOSX/instacart-market-basket-analysis/._orders.csv.zip  \n",
            "  inflating: instacart-market-basket-analysis/departments.csv.zip  \n",
            "  inflating: __MACOSX/instacart-market-basket-analysis/._departments.csv.zip  \n",
            "  inflating: instacart-market-basket-analysis/products.csv.zip  \n",
            "  inflating: __MACOSX/instacart-market-basket-analysis/._products.csv.zip  \n"
          ],
          "name": "stdout"
        }
      ]
    },
    {
      "cell_type": "code",
      "metadata": {
        "id": "qaDdXbQqCnGc",
        "outputId": "e0b5b429-a2ae-4a81-e93d-f2103f6ae295",
        "colab": {
          "base_uri": "https://localhost:8080/",
          "height": 34
        }
      },
      "source": [
        "# Change into the newly-unzipped directory\n",
        "#\n",
        "# % sign is required to change to a new directory -- you can't use !cd like\n",
        "# other commands\n",
        "#\n",
        "# Optional technical details:\n",
        "#\n",
        "# % makes the command apply to the **entire notebook environment**, which is\n",
        "# what you need to do to change the working directory\n",
        "#\n",
        "# The ! sign **opens a new shell process** behind the scenes to execute the\n",
        "# command -- this works fine for regular commands like unzip and ls\n",
        "#\n",
        "# Therefore, !cd would apply only to that new shell and wouldn't change the\n",
        "# global notebook environment\n",
        "#\n",
        "# If this makes your heard hurt, don't worry too much about it. We'll talk\n",
        "# more about the shell and operating systems stuff later in the program.\n",
        "\n",
        "%cd instacart-market-basket-analysis"
      ],
      "execution_count": 3,
      "outputs": [
        {
          "output_type": "stream",
          "text": [
            "/content/instacart-market-basket-analysis\n"
          ],
          "name": "stdout"
        }
      ]
    },
    {
      "cell_type": "code",
      "metadata": {
        "id": "eADz6civ204P",
        "outputId": "be5b1357-dd54-47d0-ee59-d9120589f377",
        "colab": {
          "base_uri": "https://localhost:8080/",
          "height": 454
        }
      },
      "source": [
        "# Unzip all .csv.zip files in the directory\n",
        "!unzip \"*.zip\""
      ],
      "execution_count": 4,
      "outputs": [
        {
          "output_type": "stream",
          "text": [
            "Archive:  products.csv.zip\n",
            "  inflating: products.csv            \n",
            "   creating: __MACOSX/\n",
            "  inflating: __MACOSX/._products.csv  \n",
            "\n",
            "Archive:  departments.csv.zip\n",
            "  inflating: departments.csv         \n",
            "  inflating: __MACOSX/._departments.csv  \n",
            "\n",
            "Archive:  orders.csv.zip\n",
            "  inflating: orders.csv              \n",
            "  inflating: __MACOSX/._orders.csv   \n",
            "\n",
            "Archive:  order_products__prior.csv.zip\n",
            "  inflating: order_products__prior.csv  \n",
            "  inflating: __MACOSX/._order_products__prior.csv  \n",
            "\n",
            "Archive:  order_products__train.csv.zip\n",
            "  inflating: order_products__train.csv  \n",
            "  inflating: __MACOSX/._order_products__train.csv  \n",
            "\n",
            "Archive:  aisles.csv.zip\n",
            "  inflating: aisles.csv              \n",
            "  inflating: __MACOSX/._aisles.csv   \n",
            "\n",
            "6 archives were successfully processed.\n"
          ],
          "name": "stdout"
        }
      ]
    },
    {
      "cell_type": "code",
      "metadata": {
        "id": "nnEkWO4E2_w2",
        "outputId": "3700012d-508b-40ab-8b9e-b9903bc82166",
        "colab": {
          "base_uri": "https://localhost:8080/",
          "height": 118
        }
      },
      "source": [
        "# List all csv files in the current directory\n",
        "# -l specifies the \"long\" listing format, which includes additional info on each file\n",
        "# -h specifies \"human readable\" file size units\n",
        "!ls -l -h *.csv"
      ],
      "execution_count": 5,
      "outputs": [
        {
          "output_type": "stream",
          "text": [
            "-rw-r--r-- 1 root root 2.6K May  2  2017 aisles.csv\n",
            "-rw-r--r-- 1 root root  270 May  2  2017 departments.csv\n",
            "-rw-r--r-- 1 root root 551M May  2  2017 order_products__prior.csv\n",
            "-rw-r--r-- 1 root root  24M May  2  2017 order_products__train.csv\n",
            "-rw-r--r-- 1 root root 104M May  2  2017 orders.csv\n",
            "-rw-r--r-- 1 root root 2.1M May  2  2017 products.csv\n"
          ],
          "name": "stdout"
        }
      ]
    },
    {
      "cell_type": "markdown",
      "metadata": {
        "id": "kAMtvSQWPUcj"
      },
      "source": [
        "# Assignment\n",
        "\n",
        "## Practice joining data\n",
        "\n",
        "These are the top 10 most frequently ordered products. How many times was each ordered? \n",
        "\n",
        "1. Banana\n",
        "2. Bag of Organic Bananas\n",
        "3. Organic Strawberries\n",
        "4. Organic Baby Spinach \n",
        "5. Organic Hass Avocado\n",
        "6. Organic Avocado\n",
        "7. Large Lemon \n",
        "8. Strawberries\n",
        "9. Limes \n",
        "10. Organic Whole Milk\n",
        "\n",
        "**Here is what you need to do:**\n",
        "\n",
        "* First, write down which columns you need and which dataframes have them.\n",
        "* Next, merge these into a single dataframe.\n",
        "* Then, use pandas functions from the previous lesson to get the **counts of the top 10 most frequently ordered products**."
      ]
    },
    {
      "cell_type": "markdown",
      "metadata": {
        "id": "xDyL5XUi4FKq"
      },
      "source": [
        "###1) Read in and concatenate the order_products__prior.csv and order_products__train.csv CSVs.  Name the resulting dataset order_products."
      ]
    },
    {
      "cell_type": "code",
      "metadata": {
        "id": "9yN4T6hf-CjM",
        "outputId": "87dcd9c9-ad85-4c9c-b6c2-26903a07ccfb",
        "colab": {
          "base_uri": "https://localhost:8080/",
          "height": 195
        }
      },
      "source": [
        "##### YOUR CODE HERE #####\n",
        "\n",
        "import pandas as pd\n",
        "order_products_prior=pd.read_csv('order_products__prior.csv')\n",
        "order_products_train=pd.read_csv('order_products__train.csv')\n",
        "\n",
        "order_products= pd.concat([order_products_prior, order_products_train])\n",
        "order_products.head()\n"
      ],
      "execution_count": 11,
      "outputs": [
        {
          "output_type": "execute_result",
          "data": {
            "text/html": [
              "<div>\n",
              "<style scoped>\n",
              "    .dataframe tbody tr th:only-of-type {\n",
              "        vertical-align: middle;\n",
              "    }\n",
              "\n",
              "    .dataframe tbody tr th {\n",
              "        vertical-align: top;\n",
              "    }\n",
              "\n",
              "    .dataframe thead th {\n",
              "        text-align: right;\n",
              "    }\n",
              "</style>\n",
              "<table border=\"1\" class=\"dataframe\">\n",
              "  <thead>\n",
              "    <tr style=\"text-align: right;\">\n",
              "      <th></th>\n",
              "      <th>order_id</th>\n",
              "      <th>product_id</th>\n",
              "      <th>add_to_cart_order</th>\n",
              "      <th>reordered</th>\n",
              "    </tr>\n",
              "  </thead>\n",
              "  <tbody>\n",
              "    <tr>\n",
              "      <th>0</th>\n",
              "      <td>2</td>\n",
              "      <td>33120</td>\n",
              "      <td>1</td>\n",
              "      <td>1</td>\n",
              "    </tr>\n",
              "    <tr>\n",
              "      <th>1</th>\n",
              "      <td>2</td>\n",
              "      <td>28985</td>\n",
              "      <td>2</td>\n",
              "      <td>1</td>\n",
              "    </tr>\n",
              "    <tr>\n",
              "      <th>2</th>\n",
              "      <td>2</td>\n",
              "      <td>9327</td>\n",
              "      <td>3</td>\n",
              "      <td>0</td>\n",
              "    </tr>\n",
              "    <tr>\n",
              "      <th>3</th>\n",
              "      <td>2</td>\n",
              "      <td>45918</td>\n",
              "      <td>4</td>\n",
              "      <td>1</td>\n",
              "    </tr>\n",
              "    <tr>\n",
              "      <th>4</th>\n",
              "      <td>2</td>\n",
              "      <td>30035</td>\n",
              "      <td>5</td>\n",
              "      <td>0</td>\n",
              "    </tr>\n",
              "  </tbody>\n",
              "</table>\n",
              "</div>"
            ],
            "text/plain": [
              "   order_id  product_id  add_to_cart_order  reordered\n",
              "0         2       33120                  1          1\n",
              "1         2       28985                  2          1\n",
              "2         2        9327                  3          0\n",
              "3         2       45918                  4          1\n",
              "4         2       30035                  5          0"
            ]
          },
          "metadata": {
            "tags": []
          },
          "execution_count": 11
        }
      ]
    },
    {
      "cell_type": "markdown",
      "metadata": {
        "id": "l7U-7OTS62Oq"
      },
      "source": [
        "###2) Create a list called ten_products that contains the names of the top 10 products ordered.  Be very careful about spelling and capitalization."
      ]
    },
    {
      "cell_type": "code",
      "metadata": {
        "id": "c5NdsAQO-PkM"
      },
      "source": [
        "##### YOUR CODE HERE #####\n",
        "ten_products = ['Banana', 'Bag of Organic Bananas', 'Organic Strawberries',\n",
        "                'Organic Baby Spinach', 'Organic Hass Avocado', 'Large Lemon', \n",
        "                'Strawberries', 'Limes', 'Organic Whole Milk']"
      ],
      "execution_count": 12,
      "outputs": []
    },
    {
      "cell_type": "markdown",
      "metadata": {
        "id": "mgWJ5XjuHqcW"
      },
      "source": [
        "###3) Read in products.csv and name the dataset \"products\"."
      ]
    },
    {
      "cell_type": "code",
      "metadata": {
        "id": "MFZ10NlrH91B"
      },
      "source": [
        "##### YOUR CODE HERE #####\n",
        "products=pd.read_csv('products.csv')\n",
        "\n"
      ],
      "execution_count": 23,
      "outputs": []
    },
    {
      "cell_type": "markdown",
      "metadata": {
        "id": "VGBvJuw4A7KB"
      },
      "source": [
        "###4) Select only the rows of the products dataset that contain one of the top 10 most ordered products.  Rename that dataset \"products\"."
      ]
    },
    {
      "cell_type": "code",
      "metadata": {
        "id": "z6ERi_LO-Z9q",
        "outputId": "48c215d3-1430-421c-e9df-84db4d3703f2",
        "colab": {
          "base_uri": "https://localhost:8080/",
          "height": 195
        }
      },
      "source": [
        "##### YOUR CODE HERE #####\n",
        "condition = ((products['product_name']=='Banana') | \n",
        "             (products['product_name']=='Bag of Organic Bananas') |\n",
        "             (products['product_name']=='Organic Strawberries') |\n",
        "             (products['product_name']=='Organic Baby Spinach') |\n",
        "             (products['product_name']=='Organic Hass Avocado') |\n",
        "             (products['product_name']=='Organic Avocado') |\n",
        "             (products['product_name']=='Large Lemon') |\n",
        "             (products['product_name']=='Strawberries') |\n",
        "             (products['product_name']=='Limes') |\n",
        "             (products['product_name']=='Organic Whole Milk'))\n",
        "\n",
        "products[condition]\n",
        "\n",
        "products = products[condition]\n",
        "             \n",
        "             \n",
        "products.head()\n",
        "\n"
      ],
      "execution_count": 30,
      "outputs": [
        {
          "output_type": "execute_result",
          "data": {
            "text/html": [
              "<div>\n",
              "<style scoped>\n",
              "    .dataframe tbody tr th:only-of-type {\n",
              "        vertical-align: middle;\n",
              "    }\n",
              "\n",
              "    .dataframe tbody tr th {\n",
              "        vertical-align: top;\n",
              "    }\n",
              "\n",
              "    .dataframe thead th {\n",
              "        text-align: right;\n",
              "    }\n",
              "</style>\n",
              "<table border=\"1\" class=\"dataframe\">\n",
              "  <thead>\n",
              "    <tr style=\"text-align: right;\">\n",
              "      <th></th>\n",
              "      <th>product_id</th>\n",
              "      <th>product_name</th>\n",
              "      <th>aisle_id</th>\n",
              "      <th>department_id</th>\n",
              "    </tr>\n",
              "  </thead>\n",
              "  <tbody>\n",
              "    <tr>\n",
              "      <th>13175</th>\n",
              "      <td>13176</td>\n",
              "      <td>Bag of Organic Bananas</td>\n",
              "      <td>24</td>\n",
              "      <td>4</td>\n",
              "    </tr>\n",
              "    <tr>\n",
              "      <th>16796</th>\n",
              "      <td>16797</td>\n",
              "      <td>Strawberries</td>\n",
              "      <td>24</td>\n",
              "      <td>4</td>\n",
              "    </tr>\n",
              "    <tr>\n",
              "      <th>21136</th>\n",
              "      <td>21137</td>\n",
              "      <td>Organic Strawberries</td>\n",
              "      <td>24</td>\n",
              "      <td>4</td>\n",
              "    </tr>\n",
              "    <tr>\n",
              "      <th>21902</th>\n",
              "      <td>21903</td>\n",
              "      <td>Organic Baby Spinach</td>\n",
              "      <td>123</td>\n",
              "      <td>4</td>\n",
              "    </tr>\n",
              "    <tr>\n",
              "      <th>24851</th>\n",
              "      <td>24852</td>\n",
              "      <td>Banana</td>\n",
              "      <td>24</td>\n",
              "      <td>4</td>\n",
              "    </tr>\n",
              "  </tbody>\n",
              "</table>\n",
              "</div>"
            ],
            "text/plain": [
              "       product_id            product_name  aisle_id  department_id\n",
              "13175       13176  Bag of Organic Bananas        24              4\n",
              "16796       16797            Strawberries        24              4\n",
              "21136       21137    Organic Strawberries        24              4\n",
              "21902       21903    Organic Baby Spinach       123              4\n",
              "24851       24852                  Banana        24              4"
            ]
          },
          "metadata": {
            "tags": []
          },
          "execution_count": 30
        }
      ]
    },
    {
      "cell_type": "markdown",
      "metadata": {
        "id": "Nscq7sQyHDku"
      },
      "source": [
        "###5) Crete a dataset called product_orders that merges order_products and products. "
      ]
    },
    {
      "cell_type": "code",
      "metadata": {
        "id": "ITIGOLaFIrAx",
        "outputId": "45ec2417-b527-45cd-9308-f0dfe200242b",
        "colab": {
          "base_uri": "https://localhost:8080/",
          "height": 195
        }
      },
      "source": [
        "##### YOUR CODE HERE #####\n",
        "product_orders = pd.merge(order_products,products, on='product_id' )\n",
        "\n",
        "product_orders.head()"
      ],
      "execution_count": 32,
      "outputs": [
        {
          "output_type": "execute_result",
          "data": {
            "text/html": [
              "<div>\n",
              "<style scoped>\n",
              "    .dataframe tbody tr th:only-of-type {\n",
              "        vertical-align: middle;\n",
              "    }\n",
              "\n",
              "    .dataframe tbody tr th {\n",
              "        vertical-align: top;\n",
              "    }\n",
              "\n",
              "    .dataframe thead th {\n",
              "        text-align: right;\n",
              "    }\n",
              "</style>\n",
              "<table border=\"1\" class=\"dataframe\">\n",
              "  <thead>\n",
              "    <tr style=\"text-align: right;\">\n",
              "      <th></th>\n",
              "      <th>order_id</th>\n",
              "      <th>product_id</th>\n",
              "      <th>add_to_cart_order</th>\n",
              "      <th>reordered</th>\n",
              "      <th>product_name</th>\n",
              "      <th>aisle_id</th>\n",
              "      <th>department_id</th>\n",
              "    </tr>\n",
              "  </thead>\n",
              "  <tbody>\n",
              "    <tr>\n",
              "      <th>0</th>\n",
              "      <td>3</td>\n",
              "      <td>21903</td>\n",
              "      <td>4</td>\n",
              "      <td>1</td>\n",
              "      <td>Organic Baby Spinach</td>\n",
              "      <td>123</td>\n",
              "      <td>4</td>\n",
              "    </tr>\n",
              "    <tr>\n",
              "      <th>1</th>\n",
              "      <td>26</td>\n",
              "      <td>21903</td>\n",
              "      <td>6</td>\n",
              "      <td>0</td>\n",
              "      <td>Organic Baby Spinach</td>\n",
              "      <td>123</td>\n",
              "      <td>4</td>\n",
              "    </tr>\n",
              "    <tr>\n",
              "      <th>2</th>\n",
              "      <td>31</td>\n",
              "      <td>21903</td>\n",
              "      <td>3</td>\n",
              "      <td>1</td>\n",
              "      <td>Organic Baby Spinach</td>\n",
              "      <td>123</td>\n",
              "      <td>4</td>\n",
              "    </tr>\n",
              "    <tr>\n",
              "      <th>3</th>\n",
              "      <td>39</td>\n",
              "      <td>21903</td>\n",
              "      <td>4</td>\n",
              "      <td>0</td>\n",
              "      <td>Organic Baby Spinach</td>\n",
              "      <td>123</td>\n",
              "      <td>4</td>\n",
              "    </tr>\n",
              "    <tr>\n",
              "      <th>4</th>\n",
              "      <td>56</td>\n",
              "      <td>21903</td>\n",
              "      <td>8</td>\n",
              "      <td>1</td>\n",
              "      <td>Organic Baby Spinach</td>\n",
              "      <td>123</td>\n",
              "      <td>4</td>\n",
              "    </tr>\n",
              "  </tbody>\n",
              "</table>\n",
              "</div>"
            ],
            "text/plain": [
              "   order_id  product_id  ...  aisle_id  department_id\n",
              "0         3       21903  ...       123              4\n",
              "1        26       21903  ...       123              4\n",
              "2        31       21903  ...       123              4\n",
              "3        39       21903  ...       123              4\n",
              "4        56       21903  ...       123              4\n",
              "\n",
              "[5 rows x 7 columns]"
            ]
          },
          "metadata": {
            "tags": []
          },
          "execution_count": 32
        }
      ]
    },
    {
      "cell_type": "markdown",
      "metadata": {
        "id": "YRHPcif3Ifec"
      },
      "source": [
        "###6) Create a dataset called merged that merges product_orders and orders."
      ]
    },
    {
      "cell_type": "code",
      "metadata": {
        "id": "tO4YHAoqIsG0"
      },
      "source": [
        "##### YOUR CODE HERE #####\n",
        "\n",
        "orders = pd.read_csv('orders.csv')\n",
        "merged = pd.merge(product_orders,orders, on='order_id')"
      ],
      "execution_count": 34,
      "outputs": []
    },
    {
      "cell_type": "markdown",
      "metadata": {
        "id": "mahfBn13ItUW"
      },
      "source": [
        "###7) Print the top 5 rows of the merged dataset."
      ]
    },
    {
      "cell_type": "code",
      "metadata": {
        "id": "PksyftriJG7R",
        "outputId": "2aaf7728-d3f9-4a5a-ef52-4ad25d75dfef",
        "colab": {
          "base_uri": "https://localhost:8080/",
          "height": 282
        }
      },
      "source": [
        "##### YOUR CODE HERE #####\n",
        "merged.head()"
      ],
      "execution_count": 35,
      "outputs": [
        {
          "output_type": "execute_result",
          "data": {
            "text/html": [
              "<div>\n",
              "<style scoped>\n",
              "    .dataframe tbody tr th:only-of-type {\n",
              "        vertical-align: middle;\n",
              "    }\n",
              "\n",
              "    .dataframe tbody tr th {\n",
              "        vertical-align: top;\n",
              "    }\n",
              "\n",
              "    .dataframe thead th {\n",
              "        text-align: right;\n",
              "    }\n",
              "</style>\n",
              "<table border=\"1\" class=\"dataframe\">\n",
              "  <thead>\n",
              "    <tr style=\"text-align: right;\">\n",
              "      <th></th>\n",
              "      <th>order_id</th>\n",
              "      <th>product_id</th>\n",
              "      <th>add_to_cart_order</th>\n",
              "      <th>reordered</th>\n",
              "      <th>product_name</th>\n",
              "      <th>aisle_id</th>\n",
              "      <th>department_id</th>\n",
              "      <th>user_id</th>\n",
              "      <th>eval_set</th>\n",
              "      <th>order_number</th>\n",
              "      <th>order_dow</th>\n",
              "      <th>order_hour_of_day</th>\n",
              "      <th>days_since_prior_order</th>\n",
              "    </tr>\n",
              "  </thead>\n",
              "  <tbody>\n",
              "    <tr>\n",
              "      <th>0</th>\n",
              "      <td>3</td>\n",
              "      <td>21903</td>\n",
              "      <td>4</td>\n",
              "      <td>1</td>\n",
              "      <td>Organic Baby Spinach</td>\n",
              "      <td>123</td>\n",
              "      <td>4</td>\n",
              "      <td>205970</td>\n",
              "      <td>prior</td>\n",
              "      <td>16</td>\n",
              "      <td>5</td>\n",
              "      <td>17</td>\n",
              "      <td>12.0</td>\n",
              "    </tr>\n",
              "    <tr>\n",
              "      <th>1</th>\n",
              "      <td>26</td>\n",
              "      <td>21903</td>\n",
              "      <td>6</td>\n",
              "      <td>0</td>\n",
              "      <td>Organic Baby Spinach</td>\n",
              "      <td>123</td>\n",
              "      <td>4</td>\n",
              "      <td>153404</td>\n",
              "      <td>prior</td>\n",
              "      <td>2</td>\n",
              "      <td>0</td>\n",
              "      <td>16</td>\n",
              "      <td>7.0</td>\n",
              "    </tr>\n",
              "    <tr>\n",
              "      <th>2</th>\n",
              "      <td>26</td>\n",
              "      <td>24852</td>\n",
              "      <td>2</td>\n",
              "      <td>1</td>\n",
              "      <td>Banana</td>\n",
              "      <td>24</td>\n",
              "      <td>4</td>\n",
              "      <td>153404</td>\n",
              "      <td>prior</td>\n",
              "      <td>2</td>\n",
              "      <td>0</td>\n",
              "      <td>16</td>\n",
              "      <td>7.0</td>\n",
              "    </tr>\n",
              "    <tr>\n",
              "      <th>3</th>\n",
              "      <td>26</td>\n",
              "      <td>47766</td>\n",
              "      <td>8</td>\n",
              "      <td>1</td>\n",
              "      <td>Organic Avocado</td>\n",
              "      <td>24</td>\n",
              "      <td>4</td>\n",
              "      <td>153404</td>\n",
              "      <td>prior</td>\n",
              "      <td>2</td>\n",
              "      <td>0</td>\n",
              "      <td>16</td>\n",
              "      <td>7.0</td>\n",
              "    </tr>\n",
              "    <tr>\n",
              "      <th>4</th>\n",
              "      <td>31</td>\n",
              "      <td>21903</td>\n",
              "      <td>3</td>\n",
              "      <td>1</td>\n",
              "      <td>Organic Baby Spinach</td>\n",
              "      <td>123</td>\n",
              "      <td>4</td>\n",
              "      <td>201744</td>\n",
              "      <td>prior</td>\n",
              "      <td>7</td>\n",
              "      <td>6</td>\n",
              "      <td>15</td>\n",
              "      <td>14.0</td>\n",
              "    </tr>\n",
              "  </tbody>\n",
              "</table>\n",
              "</div>"
            ],
            "text/plain": [
              "   order_id  product_id  ...  order_hour_of_day  days_since_prior_order\n",
              "0         3       21903  ...                 17                    12.0\n",
              "1        26       21903  ...                 16                     7.0\n",
              "2        26       24852  ...                 16                     7.0\n",
              "3        26       47766  ...                 16                     7.0\n",
              "4        31       21903  ...                 15                    14.0\n",
              "\n",
              "[5 rows x 13 columns]"
            ]
          },
          "metadata": {
            "tags": []
          },
          "execution_count": 35
        }
      ]
    },
    {
      "cell_type": "markdown",
      "metadata": {
        "id": "gr_MfVycJHkv"
      },
      "source": [
        "###9) Print the number of times each food appears in the merged dataset.  (Hint: use .valuecounts() )"
      ]
    },
    {
      "cell_type": "code",
      "metadata": {
        "id": "E4J8KRc6Je2y",
        "outputId": "7ba5ed2f-dbbd-45ff-d3cb-09119eb7c359",
        "colab": {
          "base_uri": "https://localhost:8080/",
          "height": 202
        }
      },
      "source": [
        "##### YOUR CODE HERE #####\n",
        "merged['product_name'].value_counts()"
      ],
      "execution_count": 43,
      "outputs": [
        {
          "output_type": "execute_result",
          "data": {
            "text/plain": [
              "Banana                    491291\n",
              "Bag of Organic Bananas    394930\n",
              "Organic Strawberries      275577\n",
              "Organic Baby Spinach      251705\n",
              "Organic Hass Avocado      220877\n",
              "Organic Avocado           184224\n",
              "Large Lemon               160792\n",
              "Strawberries              149445\n",
              "Limes                     146660\n",
              "Organic Whole Milk        142813\n",
              "Name: product_name, dtype: int64"
            ]
          },
          "metadata": {
            "tags": []
          },
          "execution_count": 43
        }
      ]
    },
    {
      "cell_type": "markdown",
      "metadata": {
        "id": "txTW_ljCJfqn"
      },
      "source": [
        "###10) Run the following code to test for duplicate products in a single order."
      ]
    },
    {
      "cell_type": "code",
      "metadata": {
        "id": "TdZ6mPCMK6D9",
        "outputId": "330762e3-5fd4-4c5b-f6f9-e27a8e5f1419",
        "colab": {
          "base_uri": "https://localhost:8080/",
          "height": 50
        }
      },
      "source": [
        "##### Run this code #####\n",
        "\n",
        "order_products.duplicated(subset=['order_id', 'product_id']).value_counts()"
      ],
      "execution_count": 44,
      "outputs": [
        {
          "output_type": "execute_result",
          "data": {
            "text/plain": [
              "False    33819106\n",
              "dtype: int64"
            ]
          },
          "metadata": {
            "tags": []
          },
          "execution_count": 44
        }
      ]
    },
    {
      "cell_type": "markdown",
      "metadata": {
        "id": "MWVf03Vb8AnZ"
      },
      "source": [
        "### Conclusion? - This dataset does not have any information about the quantity of items ordered, only unique items ordered and whether the shopper had bought any items in past visits. So our counts of how many times the top 10 products were ordered will really be the number of orders that the top 10 products were included in."
      ]
    },
    {
      "cell_type": "markdown",
      "metadata": {
        "id": "fBhYzADA8vve"
      },
      "source": [
        "### In order to count the frequency of orders of a given product we need to combine orders and products so that we have names associated with the products in each order."
      ]
    },
    {
      "cell_type": "markdown",
      "metadata": {
        "id": "0V8y6orrLdEk"
      },
      "source": [
        "###11) Print the top 5 rows of the products dataset."
      ]
    },
    {
      "cell_type": "code",
      "metadata": {
        "id": "LNuvDvrfMCn7",
        "outputId": "e12bfdb8-1a25-4743-9a97-0d0ebea3683f",
        "colab": {
          "base_uri": "https://localhost:8080/",
          "height": 195
        }
      },
      "source": [
        "##### YOUR CODE HERE #####\n",
        "products.head()"
      ],
      "execution_count": 45,
      "outputs": [
        {
          "output_type": "execute_result",
          "data": {
            "text/html": [
              "<div>\n",
              "<style scoped>\n",
              "    .dataframe tbody tr th:only-of-type {\n",
              "        vertical-align: middle;\n",
              "    }\n",
              "\n",
              "    .dataframe tbody tr th {\n",
              "        vertical-align: top;\n",
              "    }\n",
              "\n",
              "    .dataframe thead th {\n",
              "        text-align: right;\n",
              "    }\n",
              "</style>\n",
              "<table border=\"1\" class=\"dataframe\">\n",
              "  <thead>\n",
              "    <tr style=\"text-align: right;\">\n",
              "      <th></th>\n",
              "      <th>product_id</th>\n",
              "      <th>product_name</th>\n",
              "      <th>aisle_id</th>\n",
              "      <th>department_id</th>\n",
              "    </tr>\n",
              "  </thead>\n",
              "  <tbody>\n",
              "    <tr>\n",
              "      <th>13175</th>\n",
              "      <td>13176</td>\n",
              "      <td>Bag of Organic Bananas</td>\n",
              "      <td>24</td>\n",
              "      <td>4</td>\n",
              "    </tr>\n",
              "    <tr>\n",
              "      <th>16796</th>\n",
              "      <td>16797</td>\n",
              "      <td>Strawberries</td>\n",
              "      <td>24</td>\n",
              "      <td>4</td>\n",
              "    </tr>\n",
              "    <tr>\n",
              "      <th>21136</th>\n",
              "      <td>21137</td>\n",
              "      <td>Organic Strawberries</td>\n",
              "      <td>24</td>\n",
              "      <td>4</td>\n",
              "    </tr>\n",
              "    <tr>\n",
              "      <th>21902</th>\n",
              "      <td>21903</td>\n",
              "      <td>Organic Baby Spinach</td>\n",
              "      <td>123</td>\n",
              "      <td>4</td>\n",
              "    </tr>\n",
              "    <tr>\n",
              "      <th>24851</th>\n",
              "      <td>24852</td>\n",
              "      <td>Banana</td>\n",
              "      <td>24</td>\n",
              "      <td>4</td>\n",
              "    </tr>\n",
              "  </tbody>\n",
              "</table>\n",
              "</div>"
            ],
            "text/plain": [
              "       product_id            product_name  aisle_id  department_id\n",
              "13175       13176  Bag of Organic Bananas        24              4\n",
              "16796       16797            Strawberries        24              4\n",
              "21136       21137    Organic Strawberries        24              4\n",
              "21902       21903    Organic Baby Spinach       123              4\n",
              "24851       24852                  Banana        24              4"
            ]
          },
          "metadata": {
            "tags": []
          },
          "execution_count": 45
        }
      ]
    },
    {
      "cell_type": "markdown",
      "metadata": {
        "id": "CxvLkg5LMSB1"
      },
      "source": [
        "###12) Merge together the order_products and products datasets and call the dataset product_orders."
      ]
    },
    {
      "cell_type": "code",
      "metadata": {
        "id": "WKHLzyMr8vEF"
      },
      "source": [
        "##### YOUR CODE HERE #####\n",
        "product_orders = pd.merge(order_products,products, on='product_id' )"
      ],
      "execution_count": 46,
      "outputs": []
    },
    {
      "cell_type": "markdown",
      "metadata": {
        "id": "F1LdFD3tOJvh"
      },
      "source": [
        "###13) Determine the number of unique instances of 'product name'.  This will tell you how many times each of the top 10 products was ordered."
      ]
    },
    {
      "cell_type": "code",
      "metadata": {
        "id": "V-iLvnQ2BX3-",
        "outputId": "36a6b94c-109a-41f7-952d-d827b1ae8c88",
        "colab": {
          "base_uri": "https://localhost:8080/",
          "height": 34
        }
      },
      "source": [
        "##### YOUR CODE HERE #####\n",
        "#unique_top_10= pd.unique(merged['product_name'])\n",
        "\n",
        "#unique_top_10\n",
        "\n",
        "unique_top10= (merged['product_name'].nunique())\n",
        "\n",
        "unique_top10"
      ],
      "execution_count": 59,
      "outputs": [
        {
          "output_type": "execute_result",
          "data": {
            "text/plain": [
              "10"
            ]
          },
          "metadata": {
            "tags": []
          },
          "execution_count": 59
        }
      ]
    },
    {
      "cell_type": "markdown",
      "metadata": {
        "id": "mh-XJVuyDbRt"
      },
      "source": [
        "# Portfolio Project Milestone\n",
        "\n",
        "Watch the Portfolio Project (formerly known as Build Week) kickoff video to get a sense of what you will accomplish over the next few weeks:\n",
        "https://youtu.be/WYi9EXH-9lU"
      ]
    }
  ]
}